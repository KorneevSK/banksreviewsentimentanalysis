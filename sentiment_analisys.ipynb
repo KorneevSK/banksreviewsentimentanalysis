{
 "cells": [
  {
   "cell_type": "code",
   "execution_count": 1,
   "metadata": {},
   "outputs": [],
   "source": [
    "import pandas as pd\n",
    "import seaborn as sns\n",
    "import matplotlib.pyplot as plt\n",
    "import re\n",
    "import numpy as np"
   ]
  },
  {
   "cell_type": "code",
   "execution_count": 2,
   "metadata": {},
   "outputs": [
    {
     "data": {
      "text/html": [
       "<div>\n",
       "<style scoped>\n",
       "    .dataframe tbody tr th:only-of-type {\n",
       "        vertical-align: middle;\n",
       "    }\n",
       "\n",
       "    .dataframe tbody tr th {\n",
       "        vertical-align: top;\n",
       "    }\n",
       "\n",
       "    .dataframe thead th {\n",
       "        text-align: right;\n",
       "    }\n",
       "</style>\n",
       "<table border=\"1\" class=\"dataframe\">\n",
       "  <thead>\n",
       "    <tr style=\"text-align: right;\">\n",
       "      <th></th>\n",
       "      <th>bank_href</th>\n",
       "      <th>login</th>\n",
       "      <th>review</th>\n",
       "      <th>bank_name</th>\n",
       "      <th>site</th>\n",
       "      <th>date</th>\n",
       "      <th>message_href</th>\n",
       "      <th>score</th>\n",
       "      <th>status</th>\n",
       "      <th>user_href</th>\n",
       "    </tr>\n",
       "  </thead>\n",
       "  <tbody>\n",
       "    <tr>\n",
       "      <th>0</th>\n",
       "      <td>/kredit-evropa-bank.html</td>\n",
       "      <td>NaN</td>\n",
       "      <td>Брал кредит в данной организации, после погаше...</td>\n",
       "      <td>кредит европа банк</td>\n",
       "      <td>http://bankireview.ru</td>\n",
       "      <td>NaN</td>\n",
       "      <td>NaN</td>\n",
       "      <td>NaN</td>\n",
       "      <td>NaN</td>\n",
       "      <td>NaN</td>\n",
       "    </tr>\n",
       "    <tr>\n",
       "      <th>1</th>\n",
       "      <td>/kredit-evropa-bank.html</td>\n",
       "      <td>NaN</td>\n",
       "      <td>В 2011 году,мною была оформлена мега карта в Т...</td>\n",
       "      <td>кредит европа банк</td>\n",
       "      <td>http://bankireview.ru</td>\n",
       "      <td>NaN</td>\n",
       "      <td>NaN</td>\n",
       "      <td>NaN</td>\n",
       "      <td>NaN</td>\n",
       "      <td>NaN</td>\n",
       "    </tr>\n",
       "    <tr>\n",
       "      <th>2</th>\n",
       "      <td>/kredit-evropa-bank.html</td>\n",
       "      <td>NaN</td>\n",
       "      <td>С родителями увидели рекламу вклада Осеннее пр...</td>\n",
       "      <td>кредит европа банк</td>\n",
       "      <td>http://bankireview.ru</td>\n",
       "      <td>NaN</td>\n",
       "      <td>NaN</td>\n",
       "      <td>NaN</td>\n",
       "      <td>NaN</td>\n",
       "      <td>NaN</td>\n",
       "    </tr>\n",
       "    <tr>\n",
       "      <th>3</th>\n",
       "      <td>/kredit-evropa-bank.html</td>\n",
       "      <td>NaN</td>\n",
       "      <td>Связать три года своей жизни с этим непорядочн...</td>\n",
       "      <td>кредит европа банк</td>\n",
       "      <td>http://bankireview.ru</td>\n",
       "      <td>NaN</td>\n",
       "      <td>NaN</td>\n",
       "      <td>NaN</td>\n",
       "      <td>NaN</td>\n",
       "      <td>NaN</td>\n",
       "    </tr>\n",
       "    <tr>\n",
       "      <th>4</th>\n",
       "      <td>/kredit-evropa-bank.html</td>\n",
       "      <td>NaN</td>\n",
       "      <td>Пользуюсь месяц карточкой Card Plus, сегодня п...</td>\n",
       "      <td>кредит европа банк</td>\n",
       "      <td>http://bankireview.ru</td>\n",
       "      <td>NaN</td>\n",
       "      <td>NaN</td>\n",
       "      <td>NaN</td>\n",
       "      <td>NaN</td>\n",
       "      <td>NaN</td>\n",
       "    </tr>\n",
       "    <tr>\n",
       "      <th>...</th>\n",
       "      <td>...</td>\n",
       "      <td>...</td>\n",
       "      <td>...</td>\n",
       "      <td>...</td>\n",
       "      <td>...</td>\n",
       "      <td>...</td>\n",
       "      <td>...</td>\n",
       "      <td>...</td>\n",
       "      <td>...</td>\n",
       "      <td>...</td>\n",
       "    </tr>\n",
       "    <tr>\n",
       "      <th>23805</th>\n",
       "      <td>/bank/bank-chbrr/</td>\n",
       "      <td>Василий,</td>\n",
       "      <td>Работа касс отвратительнаяПри наличии большой ...</td>\n",
       "      <td>банк чбрр</td>\n",
       "      <td>https://www.sravni.ru</td>\n",
       "      <td>18 дек, 2018</td>\n",
       "      <td>/bank/bank-chbrr/otzyv/305639/?page</td>\n",
       "      <td>1</td>\n",
       "      <td>NaN</td>\n",
       "      <td>NaN</td>\n",
       "    </tr>\n",
       "    <tr>\n",
       "      <th>23806</th>\n",
       "      <td>/bank/primore/</td>\n",
       "      <td>Дмитрий,</td>\n",
       "      <td>Проблемы с переводом за границу.Решил приобрес...</td>\n",
       "      <td>банк приморье</td>\n",
       "      <td>https://www.sravni.ru</td>\n",
       "      <td>28 нояб, 2017</td>\n",
       "      <td>/bank/primore/otzyv/258481/?page</td>\n",
       "      <td>1</td>\n",
       "      <td>NaN</td>\n",
       "      <td>NaN</td>\n",
       "    </tr>\n",
       "    <tr>\n",
       "      <th>23807</th>\n",
       "      <td>/bank/inkarobank/</td>\n",
       "      <td>Александр,</td>\n",
       "      <td>Отказали в пополнении вкладаСегодняСегодня (10...</td>\n",
       "      <td>инкаробанк</td>\n",
       "      <td>https://www.sravni.ru</td>\n",
       "      <td>10 мая, 2018</td>\n",
       "      <td>/bank/inkarobank/otzyv/289290/?page</td>\n",
       "      <td>3</td>\n",
       "      <td>NaN</td>\n",
       "      <td>NaN</td>\n",
       "    </tr>\n",
       "    <tr>\n",
       "      <th>23808</th>\n",
       "      <td>/bank/razvitie-stolica/</td>\n",
       "      <td>Uliana,</td>\n",
       "      <td>Вернули мне мою квартиру!Взыскивали квартиру п...</td>\n",
       "      <td>банк развитие-столица</td>\n",
       "      <td>https://www.sravni.ru</td>\n",
       "      <td>04 февр, 2019</td>\n",
       "      <td>/bank/razvitie-stolica/otzyv/312081/?page</td>\n",
       "      <td>5</td>\n",
       "      <td>NaN</td>\n",
       "      <td>NaN</td>\n",
       "    </tr>\n",
       "    <tr>\n",
       "      <th>23809</th>\n",
       "      <td>/bank/rosavtobank/</td>\n",
       "      <td>Дарья,</td>\n",
       "      <td>Решила открыть небольшой вклад в рублях и пути...</td>\n",
       "      <td>росавтобанк</td>\n",
       "      <td>https://www.sravni.ru</td>\n",
       "      <td>19 окт, 2015</td>\n",
       "      <td>/bank/rosavtobank/otzyv/178558/?page</td>\n",
       "      <td>5</td>\n",
       "      <td>NaN</td>\n",
       "      <td>NaN</td>\n",
       "    </tr>\n",
       "  </tbody>\n",
       "</table>\n",
       "<p>23810 rows × 10 columns</p>\n",
       "</div>"
      ],
      "text/plain": [
       "                      bank_href        login  \\\n",
       "0      /kredit-evropa-bank.html          NaN   \n",
       "1      /kredit-evropa-bank.html          NaN   \n",
       "2      /kredit-evropa-bank.html          NaN   \n",
       "3      /kredit-evropa-bank.html          NaN   \n",
       "4      /kredit-evropa-bank.html          NaN   \n",
       "...                         ...          ...   \n",
       "23805         /bank/bank-chbrr/    Василий,    \n",
       "23806            /bank/primore/    Дмитрий,    \n",
       "23807         /bank/inkarobank/  Александр,    \n",
       "23808   /bank/razvitie-stolica/     Uliana,    \n",
       "23809        /bank/rosavtobank/      Дарья,    \n",
       "\n",
       "                                                  review  \\\n",
       "0      Брал кредит в данной организации, после погаше...   \n",
       "1      В 2011 году,мною была оформлена мега карта в Т...   \n",
       "2      С родителями увидели рекламу вклада Осеннее пр...   \n",
       "3      Связать три года своей жизни с этим непорядочн...   \n",
       "4      Пользуюсь месяц карточкой Card Plus, сегодня п...   \n",
       "...                                                  ...   \n",
       "23805  Работа касс отвратительнаяПри наличии большой ...   \n",
       "23806  Проблемы с переводом за границу.Решил приобрес...   \n",
       "23807  Отказали в пополнении вкладаСегодняСегодня (10...   \n",
       "23808  Вернули мне мою квартиру!Взыскивали квартиру п...   \n",
       "23809  Решила открыть небольшой вклад в рублях и пути...   \n",
       "\n",
       "                   bank_name                   site           date  \\\n",
       "0         кредит европа банк  http://bankireview.ru            NaN   \n",
       "1         кредит европа банк  http://bankireview.ru            NaN   \n",
       "2         кредит европа банк  http://bankireview.ru            NaN   \n",
       "3         кредит европа банк  http://bankireview.ru            NaN   \n",
       "4         кредит европа банк  http://bankireview.ru            NaN   \n",
       "...                      ...                    ...            ...   \n",
       "23805              банк чбрр  https://www.sravni.ru   18 дек, 2018   \n",
       "23806          банк приморье  https://www.sravni.ru  28 нояб, 2017   \n",
       "23807             инкаробанк  https://www.sravni.ru   10 мая, 2018   \n",
       "23808  банк развитие-столица  https://www.sravni.ru  04 февр, 2019   \n",
       "23809            росавтобанк  https://www.sravni.ru   19 окт, 2015   \n",
       "\n",
       "                                    message_href score status user_href  \n",
       "0                                            NaN   NaN    NaN       NaN  \n",
       "1                                            NaN   NaN    NaN       NaN  \n",
       "2                                            NaN   NaN    NaN       NaN  \n",
       "3                                            NaN   NaN    NaN       NaN  \n",
       "4                                            NaN   NaN    NaN       NaN  \n",
       "...                                          ...   ...    ...       ...  \n",
       "23805        /bank/bank-chbrr/otzyv/305639/?page     1    NaN       NaN  \n",
       "23806           /bank/primore/otzyv/258481/?page     1    NaN       NaN  \n",
       "23807        /bank/inkarobank/otzyv/289290/?page     3    NaN       NaN  \n",
       "23808  /bank/razvitie-stolica/otzyv/312081/?page     5    NaN       NaN  \n",
       "23809       /bank/rosavtobank/otzyv/178558/?page     5    NaN       NaN  \n",
       "\n",
       "[23810 rows x 10 columns]"
      ]
     },
     "execution_count": 2,
     "metadata": {},
     "output_type": "execute_result"
    }
   ],
   "source": [
    "df = pd.read_csv('financial_review.csv', sep=',')\n",
    "df"
   ]
  },
  {
   "cell_type": "code",
   "execution_count": 3,
   "metadata": {},
   "outputs": [
    {
     "data": {
      "text/html": [
       "<div>\n",
       "<style scoped>\n",
       "    .dataframe tbody tr th:only-of-type {\n",
       "        vertical-align: middle;\n",
       "    }\n",
       "\n",
       "    .dataframe tbody tr th {\n",
       "        vertical-align: top;\n",
       "    }\n",
       "\n",
       "    .dataframe thead th {\n",
       "        text-align: right;\n",
       "    }\n",
       "</style>\n",
       "<table border=\"1\" class=\"dataframe\">\n",
       "  <thead>\n",
       "    <tr style=\"text-align: right;\">\n",
       "      <th></th>\n",
       "      <th>review</th>\n",
       "      <th>score</th>\n",
       "    </tr>\n",
       "  </thead>\n",
       "  <tbody>\n",
       "    <tr>\n",
       "      <th>0</th>\n",
       "      <td>Брал кредит в данной организации, после погаше...</td>\n",
       "      <td>NaN</td>\n",
       "    </tr>\n",
       "    <tr>\n",
       "      <th>1</th>\n",
       "      <td>В 2011 году,мною была оформлена мега карта в Т...</td>\n",
       "      <td>NaN</td>\n",
       "    </tr>\n",
       "    <tr>\n",
       "      <th>2</th>\n",
       "      <td>С родителями увидели рекламу вклада Осеннее пр...</td>\n",
       "      <td>NaN</td>\n",
       "    </tr>\n",
       "    <tr>\n",
       "      <th>3</th>\n",
       "      <td>Связать три года своей жизни с этим непорядочн...</td>\n",
       "      <td>NaN</td>\n",
       "    </tr>\n",
       "    <tr>\n",
       "      <th>4</th>\n",
       "      <td>Пользуюсь месяц карточкой Card Plus, сегодня п...</td>\n",
       "      <td>NaN</td>\n",
       "    </tr>\n",
       "    <tr>\n",
       "      <th>...</th>\n",
       "      <td>...</td>\n",
       "      <td>...</td>\n",
       "    </tr>\n",
       "    <tr>\n",
       "      <th>23805</th>\n",
       "      <td>Работа касс отвратительнаяПри наличии большой ...</td>\n",
       "      <td>1</td>\n",
       "    </tr>\n",
       "    <tr>\n",
       "      <th>23806</th>\n",
       "      <td>Проблемы с переводом за границу.Решил приобрес...</td>\n",
       "      <td>1</td>\n",
       "    </tr>\n",
       "    <tr>\n",
       "      <th>23807</th>\n",
       "      <td>Отказали в пополнении вкладаСегодняСегодня (10...</td>\n",
       "      <td>3</td>\n",
       "    </tr>\n",
       "    <tr>\n",
       "      <th>23808</th>\n",
       "      <td>Вернули мне мою квартиру!Взыскивали квартиру п...</td>\n",
       "      <td>5</td>\n",
       "    </tr>\n",
       "    <tr>\n",
       "      <th>23809</th>\n",
       "      <td>Решила открыть небольшой вклад в рублях и пути...</td>\n",
       "      <td>5</td>\n",
       "    </tr>\n",
       "  </tbody>\n",
       "</table>\n",
       "<p>23810 rows × 2 columns</p>\n",
       "</div>"
      ],
      "text/plain": [
       "                                                  review score\n",
       "0      Брал кредит в данной организации, после погаше...   NaN\n",
       "1      В 2011 году,мною была оформлена мега карта в Т...   NaN\n",
       "2      С родителями увидели рекламу вклада Осеннее пр...   NaN\n",
       "3      Связать три года своей жизни с этим непорядочн...   NaN\n",
       "4      Пользуюсь месяц карточкой Card Plus, сегодня п...   NaN\n",
       "...                                                  ...   ...\n",
       "23805  Работа касс отвратительнаяПри наличии большой ...     1\n",
       "23806  Проблемы с переводом за границу.Решил приобрес...     1\n",
       "23807  Отказали в пополнении вкладаСегодняСегодня (10...     3\n",
       "23808  Вернули мне мою квартиру!Взыскивали квартиру п...     5\n",
       "23809  Решила открыть небольшой вклад в рублях и пути...     5\n",
       "\n",
       "[23810 rows x 2 columns]"
      ]
     },
     "execution_count": 3,
     "metadata": {},
     "output_type": "execute_result"
    }
   ],
   "source": [
    "df = df[['review', 'score']]\n",
    "df"
   ]
  },
  {
   "cell_type": "code",
   "execution_count": 4,
   "metadata": {},
   "outputs": [
    {
     "data": {
      "text/html": [
       "<div>\n",
       "<style scoped>\n",
       "    .dataframe tbody tr th:only-of-type {\n",
       "        vertical-align: middle;\n",
       "    }\n",
       "\n",
       "    .dataframe tbody tr th {\n",
       "        vertical-align: top;\n",
       "    }\n",
       "\n",
       "    .dataframe thead th {\n",
       "        text-align: right;\n",
       "    }\n",
       "</style>\n",
       "<table border=\"1\" class=\"dataframe\">\n",
       "  <thead>\n",
       "    <tr style=\"text-align: right;\">\n",
       "      <th></th>\n",
       "      <th>review</th>\n",
       "      <th>score</th>\n",
       "    </tr>\n",
       "  </thead>\n",
       "  <tbody>\n",
       "    <tr>\n",
       "      <th>0</th>\n",
       "      <td>Брал кредит в данной организации, после погаше...</td>\n",
       "      <td>NaN</td>\n",
       "    </tr>\n",
       "    <tr>\n",
       "      <th>1</th>\n",
       "      <td>В 2011 году,мною была оформлена мега карта в Т...</td>\n",
       "      <td>NaN</td>\n",
       "    </tr>\n",
       "    <tr>\n",
       "      <th>2</th>\n",
       "      <td>С родителями увидели рекламу вклада Осеннее пр...</td>\n",
       "      <td>NaN</td>\n",
       "    </tr>\n",
       "    <tr>\n",
       "      <th>3</th>\n",
       "      <td>Связать три года своей жизни с этим непорядочн...</td>\n",
       "      <td>NaN</td>\n",
       "    </tr>\n",
       "    <tr>\n",
       "      <th>4</th>\n",
       "      <td>Пользуюсь месяц карточкой Card Plus, сегодня п...</td>\n",
       "      <td>NaN</td>\n",
       "    </tr>\n",
       "    <tr>\n",
       "      <th>...</th>\n",
       "      <td>...</td>\n",
       "      <td>...</td>\n",
       "    </tr>\n",
       "    <tr>\n",
       "      <th>23805</th>\n",
       "      <td>Работа касс отвратительнаяПри наличии большой ...</td>\n",
       "      <td>1</td>\n",
       "    </tr>\n",
       "    <tr>\n",
       "      <th>23806</th>\n",
       "      <td>Проблемы с переводом за границу.Решил приобрес...</td>\n",
       "      <td>1</td>\n",
       "    </tr>\n",
       "    <tr>\n",
       "      <th>23807</th>\n",
       "      <td>Отказали в пополнении вкладаСегодняСегодня (10...</td>\n",
       "      <td>3</td>\n",
       "    </tr>\n",
       "    <tr>\n",
       "      <th>23808</th>\n",
       "      <td>Вернули мне мою квартиру!Взыскивали квартиру п...</td>\n",
       "      <td>5</td>\n",
       "    </tr>\n",
       "    <tr>\n",
       "      <th>23809</th>\n",
       "      <td>Решила открыть небольшой вклад в рублях и пути...</td>\n",
       "      <td>5</td>\n",
       "    </tr>\n",
       "  </tbody>\n",
       "</table>\n",
       "<p>23810 rows × 2 columns</p>\n",
       "</div>"
      ],
      "text/plain": [
       "                                                  review score\n",
       "0      Брал кредит в данной организации, после погаше...   NaN\n",
       "1      В 2011 году,мною была оформлена мега карта в Т...   NaN\n",
       "2      С родителями увидели рекламу вклада Осеннее пр...   NaN\n",
       "3      Связать три года своей жизни с этим непорядочн...   NaN\n",
       "4      Пользуюсь месяц карточкой Card Plus, сегодня п...   NaN\n",
       "...                                                  ...   ...\n",
       "23805  Работа касс отвратительнаяПри наличии большой ...     1\n",
       "23806  Проблемы с переводом за границу.Решил приобрес...     1\n",
       "23807  Отказали в пополнении вкладаСегодняСегодня (10...     3\n",
       "23808  Вернули мне мою квартиру!Взыскивали квартиру п...     5\n",
       "23809  Решила открыть небольшой вклад в рублях и пути...     5\n",
       "\n",
       "[23810 rows x 2 columns]"
      ]
     },
     "execution_count": 4,
     "metadata": {},
     "output_type": "execute_result"
    }
   ],
   "source": [
    "df=df.reset_index(drop=True)\n",
    "df"
   ]
  },
  {
   "cell_type": "code",
   "execution_count": 5,
   "metadata": {},
   "outputs": [],
   "source": [
    "df['score']=pd.to_numeric(df['score'], errors='coerce').fillna(0).astype(int)"
   ]
  },
  {
   "cell_type": "code",
   "execution_count": 6,
   "metadata": {},
   "outputs": [
    {
     "data": {
      "text/plain": [
       "review    0\n",
       "score     0\n",
       "dtype: int64"
      ]
     },
     "execution_count": 6,
     "metadata": {},
     "output_type": "execute_result"
    }
   ],
   "source": [
    "df[df['score'].isna()].count()"
   ]
  },
  {
   "cell_type": "code",
   "execution_count": 7,
   "metadata": {},
   "outputs": [
    {
     "data": {
      "text/plain": [
       "'Брал кредит в данной организации, после погашения всех выплат стали звонить мне на телефон и говорить, что не было последней оплаты кредита, звонят как на мобильный, так и на домашний, вымогают деньги, хотя по документам и чекам у меня есть все оплаты.\\n\\nРанее за два месяца стали мне звонить и предлагать сделать на оставшуюся сумму мне рефенансирование, когда я отказался, тогда это всё и началось.\\n\\nНасчитали мне долг 27000, и как будто у меня не было последней оплаты, хотя на руках чек\\xa0\\xa0и все документы.\\n\\nКрайне не рекомендую ходить в это грязное заведение, где вы оставите львиную долю своих нервов и попадете на проценты, высосаные из пальцев сотрудников банка и их руководителей.\\n\\nПридется писать заявление в прокуратуру.Брал кредит в данной организации, после погашения всех выплат стали звонить мне на телефон и говорить, что не было последней оплаты кредита, звонят как на мобильный, так и на домашний, вымогают деньги, хотя по документам и чекам у меня есть все оплаты.\\n\\nРанее за два месяца стали мне звонить и предлагать сделать на оставшуюся сумму мне рефенансирование, когда я отказался, тогда это всё и началось.\\n\\nНасчитали мне долг 27000, и как будто у меня не было последней оплаты, хотя на руках чек\\xa0\\xa0и все документы.\\n\\nКрайне не рекомендую ходить в это грязное заведение, где вы оставите львиную долю своих нервов и попадете на проценты, высосаные из пальцев сотрудников банка и их руководителей.\\n\\nПридется писать заявление в прокуратуру.'"
      ]
     },
     "execution_count": 7,
     "metadata": {},
     "output_type": "execute_result"
    }
   ],
   "source": [
    "df['review'][0]"
   ]
  },
  {
   "cell_type": "code",
   "execution_count": 8,
   "metadata": {},
   "outputs": [],
   "source": [
    "def splittext(t):\n",
    "    split = -((-len(t))//2)\n",
    "    if t[:split] == t[split:]:\n",
    "        return t[:split]\n",
    "    else:\n",
    "        return t"
   ]
  },
  {
   "cell_type": "code",
   "execution_count": 9,
   "metadata": {},
   "outputs": [],
   "source": [
    "df['review'] = [splittext(x) for x in df['review']]"
   ]
  },
  {
   "cell_type": "code",
   "execution_count": 10,
   "metadata": {},
   "outputs": [
    {
     "data": {
      "text/plain": [
       "'Брал кредит в данной организации, после погашения всех выплат стали звонить мне на телефон и говорить, что не было последней оплаты кредита, звонят как на мобильный, так и на домашний, вымогают деньги, хотя по документам и чекам у меня есть все оплаты.\\n\\nРанее за два месяца стали мне звонить и предлагать сделать на оставшуюся сумму мне рефенансирование, когда я отказался, тогда это всё и началось.\\n\\nНасчитали мне долг 27000, и как будто у меня не было последней оплаты, хотя на руках чек\\xa0\\xa0и все документы.\\n\\nКрайне не рекомендую ходить в это грязное заведение, где вы оставите львиную долю своих нервов и попадете на проценты, высосаные из пальцев сотрудников банка и их руководителей.\\n\\nПридется писать заявление в прокуратуру.'"
      ]
     },
     "execution_count": 10,
     "metadata": {},
     "output_type": "execute_result"
    }
   ],
   "source": [
    "df['review'][0]"
   ]
  },
  {
   "cell_type": "code",
   "execution_count": 11,
   "metadata": {},
   "outputs": [],
   "source": [
    "_digits = re.compile('\\d')\n",
    "def contains_digits(d):\n",
    "    return bool(_digits.search(d))"
   ]
  },
  {
   "cell_type": "code",
   "execution_count": 12,
   "metadata": {},
   "outputs": [],
   "source": [
    "import re\n",
    "\n",
    "regex = re.compile('[^а-яА-Я]')"
   ]
  },
  {
   "cell_type": "code",
   "execution_count": 13,
   "metadata": {},
   "outputs": [],
   "source": [
    "import nltk\n",
    "import string\n",
    "import pymorphy2\n",
    "from itertools import groupby\n",
    "from nltk.corpus import stopwords\n",
    "\n",
    "morph = pymorphy2.MorphAnalyzer()\n",
    "\n",
    "def tokenize_me(file_text):\n",
    "    #firstly let's apply nltk tokenization\n",
    "    tokens = nltk.word_tokenize(file_text)\n",
    " \n",
    "    #let's delete punctuation symbols and numbers\n",
    "    tokens = [i.lower() for i in tokens]\n",
    "    tokens = [i for i in tokens if ( i not in string.punctuation )]\n",
    "    tokens = [i for i in tokens if ( i[0] not in string.punctuation )]\n",
    "    tokens = [i for i in tokens if ( i[0] not in string.digits )]\n",
    "    tokens = [i for i in tokens if not contains_digits(i)]\n",
    "    tokens = [regex.sub('', i) for i in tokens]\n",
    " \n",
    "    #deleting stop_words\n",
    "    stop_words = stopwords.words('russian')\n",
    "    stop_words.extend(['что', 'это', 'так', 'вот', 'быть', 'как', 'в', '—', 'к', 'на', 'т.к.', 'т.к'])\n",
    "    tokens = [i for i in tokens if ( i not in stop_words )]\n",
    "    tokens = [i for i in tokens if ( len(i) > 1 )]\n",
    "    tokens = [i for i in tokens if i[-1] != '.']\n",
    " \n",
    "    #cleaning words\n",
    "    tokens = [i.replace(\"«\", \"\").replace(\"»\", \"\") for i in tokens]\n",
    "    \n",
    "    #removing doubles\n",
    "    tokens = [el for el, _ in groupby(tokens)]\n",
    "    \n",
    "    tokens = [i for i in tokens if ( i not in string.punctuation )]\n",
    "    \n",
    "    tokens =[morph.parse(i)[0].normal_form for i in tokens]\n",
    "    \n",
    "#     tokens = tag_mystem(str(tokens))\n",
    " \n",
    "    return tokens"
   ]
  },
  {
   "cell_type": "code",
   "execution_count": 14,
   "metadata": {},
   "outputs": [],
   "source": [
    "def spaces(x):\n",
    "    tmp = list(x)\n",
    "#     print(tmp)\n",
    "    for i in range(len(tmp)):\n",
    "#         print(tmp[i])\n",
    "        if tmp[i].isupper() and tmp[i-1] != ' ' and i != 0:\n",
    "            tmp.insert(i, ' ')\n",
    "    tmp2 = ''\n",
    "#     print(tmp)\n",
    "    x = tmp2.join(tmp)\n",
    "    return x"
   ]
  },
  {
   "cell_type": "code",
   "execution_count": 274,
   "metadata": {},
   "outputs": [
    {
     "data": {
      "text/plain": [
       "'Мама Мыла раму'"
      ]
     },
     "execution_count": 274,
     "metadata": {},
     "output_type": "execute_result"
    }
   ],
   "source": [
    "stroka = 'МамаМыла раму'\n",
    "stroka = spaces(stroka)\n",
    "stroka"
   ]
  },
  {
   "cell_type": "code",
   "execution_count": 15,
   "metadata": {},
   "outputs": [],
   "source": [
    "df['review'] = df['review'].apply(lambda x: spaces(x))"
   ]
  },
  {
   "cell_type": "code",
   "execution_count": 16,
   "metadata": {},
   "outputs": [
    {
     "name": "stderr",
     "output_type": "stream",
     "text": [
      "<ipython-input-16-04f728202b56>:2: SettingWithCopyWarning: \n",
      "A value is trying to be set on a copy of a slice from a DataFrame.\n",
      "Try using .loc[row_indexer,col_indexer] = value instead\n",
      "\n",
      "See the caveats in the documentation: https://pandas.pydata.org/pandas-docs/stable/user_guide/indexing.html#returning-a-view-versus-a-copy\n",
      "  df['sentiment'] = np.where(df['score'] > 3, 1, 0)\n"
     ]
    },
    {
     "ename": "KeyError",
     "evalue": "'index'",
     "output_type": "error",
     "traceback": [
      "\u001b[1;31m---------------------------------------------------------------------------\u001b[0m",
      "\u001b[1;31mKeyError\u001b[0m                                  Traceback (most recent call last)",
      "\u001b[1;32mD:\\anaconda\\lib\\site-packages\\pandas\\core\\indexes\\base.py\u001b[0m in \u001b[0;36mget_loc\u001b[1;34m(self, key, method, tolerance)\u001b[0m\n\u001b[0;32m   2894\u001b[0m             \u001b[1;32mtry\u001b[0m\u001b[1;33m:\u001b[0m\u001b[1;33m\u001b[0m\u001b[1;33m\u001b[0m\u001b[0m\n\u001b[1;32m-> 2895\u001b[1;33m                 \u001b[1;32mreturn\u001b[0m \u001b[0mself\u001b[0m\u001b[1;33m.\u001b[0m\u001b[0m_engine\u001b[0m\u001b[1;33m.\u001b[0m\u001b[0mget_loc\u001b[0m\u001b[1;33m(\u001b[0m\u001b[0mcasted_key\u001b[0m\u001b[1;33m)\u001b[0m\u001b[1;33m\u001b[0m\u001b[1;33m\u001b[0m\u001b[0m\n\u001b[0m\u001b[0;32m   2896\u001b[0m             \u001b[1;32mexcept\u001b[0m \u001b[0mKeyError\u001b[0m \u001b[1;32mas\u001b[0m \u001b[0merr\u001b[0m\u001b[1;33m:\u001b[0m\u001b[1;33m\u001b[0m\u001b[1;33m\u001b[0m\u001b[0m\n",
      "\u001b[1;32mpandas\\_libs\\index.pyx\u001b[0m in \u001b[0;36mpandas._libs.index.IndexEngine.get_loc\u001b[1;34m()\u001b[0m\n",
      "\u001b[1;32mpandas\\_libs\\index.pyx\u001b[0m in \u001b[0;36mpandas._libs.index.IndexEngine.get_loc\u001b[1;34m()\u001b[0m\n",
      "\u001b[1;32mpandas\\_libs\\hashtable_class_helper.pxi\u001b[0m in \u001b[0;36mpandas._libs.hashtable.PyObjectHashTable.get_item\u001b[1;34m()\u001b[0m\n",
      "\u001b[1;32mpandas\\_libs\\hashtable_class_helper.pxi\u001b[0m in \u001b[0;36mpandas._libs.hashtable.PyObjectHashTable.get_item\u001b[1;34m()\u001b[0m\n",
      "\u001b[1;31mKeyError\u001b[0m: 'index'",
      "\nThe above exception was the direct cause of the following exception:\n",
      "\u001b[1;31mKeyError\u001b[0m                                  Traceback (most recent call last)",
      "\u001b[1;32m<ipython-input-16-04f728202b56>\u001b[0m in \u001b[0;36m<module>\u001b[1;34m\u001b[0m\n\u001b[0;32m      2\u001b[0m \u001b[0mdf\u001b[0m\u001b[1;33m[\u001b[0m\u001b[1;34m'sentiment'\u001b[0m\u001b[1;33m]\u001b[0m \u001b[1;33m=\u001b[0m \u001b[0mnp\u001b[0m\u001b[1;33m.\u001b[0m\u001b[0mwhere\u001b[0m\u001b[1;33m(\u001b[0m\u001b[0mdf\u001b[0m\u001b[1;33m[\u001b[0m\u001b[1;34m'score'\u001b[0m\u001b[1;33m]\u001b[0m \u001b[1;33m>\u001b[0m \u001b[1;36m3\u001b[0m\u001b[1;33m,\u001b[0m \u001b[1;36m1\u001b[0m\u001b[1;33m,\u001b[0m \u001b[1;36m0\u001b[0m\u001b[1;33m)\u001b[0m\u001b[1;33m\u001b[0m\u001b[1;33m\u001b[0m\u001b[0m\n\u001b[0;32m      3\u001b[0m \u001b[0mdf\u001b[0m \u001b[1;33m=\u001b[0m \u001b[0mdf\u001b[0m\u001b[1;33m.\u001b[0m\u001b[0mreset_index\u001b[0m\u001b[1;33m(\u001b[0m\u001b[0mdrop\u001b[0m\u001b[1;33m=\u001b[0m\u001b[1;32mTrue\u001b[0m\u001b[1;33m)\u001b[0m\u001b[1;33m\u001b[0m\u001b[1;33m\u001b[0m\u001b[0m\n\u001b[1;32m----> 4\u001b[1;33m \u001b[1;32mdel\u001b[0m \u001b[0mdf\u001b[0m\u001b[1;33m[\u001b[0m\u001b[1;34m'index'\u001b[0m\u001b[1;33m]\u001b[0m\u001b[1;33m\u001b[0m\u001b[1;33m\u001b[0m\u001b[0m\n\u001b[0m\u001b[0;32m      5\u001b[0m \u001b[0mdf\u001b[0m\u001b[1;33m\u001b[0m\u001b[1;33m\u001b[0m\u001b[0m\n",
      "\u001b[1;32mD:\\anaconda\\lib\\site-packages\\pandas\\core\\generic.py\u001b[0m in \u001b[0;36m__delitem__\u001b[1;34m(self, key)\u001b[0m\n\u001b[0;32m   3709\u001b[0m             \u001b[1;31m# there was no match, this call should raise the appropriate\u001b[0m\u001b[1;33m\u001b[0m\u001b[1;33m\u001b[0m\u001b[1;33m\u001b[0m\u001b[0m\n\u001b[0;32m   3710\u001b[0m             \u001b[1;31m# exception:\u001b[0m\u001b[1;33m\u001b[0m\u001b[1;33m\u001b[0m\u001b[1;33m\u001b[0m\u001b[0m\n\u001b[1;32m-> 3711\u001b[1;33m             \u001b[0mloc\u001b[0m \u001b[1;33m=\u001b[0m \u001b[0mself\u001b[0m\u001b[1;33m.\u001b[0m\u001b[0maxes\u001b[0m\u001b[1;33m[\u001b[0m\u001b[1;33m-\u001b[0m\u001b[1;36m1\u001b[0m\u001b[1;33m]\u001b[0m\u001b[1;33m.\u001b[0m\u001b[0mget_loc\u001b[0m\u001b[1;33m(\u001b[0m\u001b[0mkey\u001b[0m\u001b[1;33m)\u001b[0m\u001b[1;33m\u001b[0m\u001b[1;33m\u001b[0m\u001b[0m\n\u001b[0m\u001b[0;32m   3712\u001b[0m             \u001b[0mself\u001b[0m\u001b[1;33m.\u001b[0m\u001b[0m_mgr\u001b[0m\u001b[1;33m.\u001b[0m\u001b[0midelete\u001b[0m\u001b[1;33m(\u001b[0m\u001b[0mloc\u001b[0m\u001b[1;33m)\u001b[0m\u001b[1;33m\u001b[0m\u001b[1;33m\u001b[0m\u001b[0m\n\u001b[0;32m   3713\u001b[0m \u001b[1;33m\u001b[0m\u001b[0m\n",
      "\u001b[1;32mD:\\anaconda\\lib\\site-packages\\pandas\\core\\indexes\\base.py\u001b[0m in \u001b[0;36mget_loc\u001b[1;34m(self, key, method, tolerance)\u001b[0m\n\u001b[0;32m   2895\u001b[0m                 \u001b[1;32mreturn\u001b[0m \u001b[0mself\u001b[0m\u001b[1;33m.\u001b[0m\u001b[0m_engine\u001b[0m\u001b[1;33m.\u001b[0m\u001b[0mget_loc\u001b[0m\u001b[1;33m(\u001b[0m\u001b[0mcasted_key\u001b[0m\u001b[1;33m)\u001b[0m\u001b[1;33m\u001b[0m\u001b[1;33m\u001b[0m\u001b[0m\n\u001b[0;32m   2896\u001b[0m             \u001b[1;32mexcept\u001b[0m \u001b[0mKeyError\u001b[0m \u001b[1;32mas\u001b[0m \u001b[0merr\u001b[0m\u001b[1;33m:\u001b[0m\u001b[1;33m\u001b[0m\u001b[1;33m\u001b[0m\u001b[0m\n\u001b[1;32m-> 2897\u001b[1;33m                 \u001b[1;32mraise\u001b[0m \u001b[0mKeyError\u001b[0m\u001b[1;33m(\u001b[0m\u001b[0mkey\u001b[0m\u001b[1;33m)\u001b[0m \u001b[1;32mfrom\u001b[0m \u001b[0merr\u001b[0m\u001b[1;33m\u001b[0m\u001b[1;33m\u001b[0m\u001b[0m\n\u001b[0m\u001b[0;32m   2898\u001b[0m \u001b[1;33m\u001b[0m\u001b[0m\n\u001b[0;32m   2899\u001b[0m         \u001b[1;32mif\u001b[0m \u001b[0mtolerance\u001b[0m \u001b[1;32mis\u001b[0m \u001b[1;32mnot\u001b[0m \u001b[1;32mNone\u001b[0m\u001b[1;33m:\u001b[0m\u001b[1;33m\u001b[0m\u001b[1;33m\u001b[0m\u001b[0m\n",
      "\u001b[1;31mKeyError\u001b[0m: 'index'"
     ]
    }
   ],
   "source": [
    "df = df[df['score'] != 0]\n",
    "df['sentiment'] = np.where(df['score'] > 3, 1, 0)\n",
    "df = df.reset_index(drop=True)\n",
    "del df['index']\n",
    "df"
   ]
  },
  {
   "cell_type": "code",
   "execution_count": 17,
   "metadata": {},
   "outputs": [
    {
     "data": {
      "text/html": [
       "<div>\n",
       "<style scoped>\n",
       "    .dataframe tbody tr th:only-of-type {\n",
       "        vertical-align: middle;\n",
       "    }\n",
       "\n",
       "    .dataframe tbody tr th {\n",
       "        vertical-align: top;\n",
       "    }\n",
       "\n",
       "    .dataframe thead th {\n",
       "        text-align: right;\n",
       "    }\n",
       "</style>\n",
       "<table border=\"1\" class=\"dataframe\">\n",
       "  <thead>\n",
       "    <tr style=\"text-align: right;\">\n",
       "      <th></th>\n",
       "      <th>review</th>\n",
       "      <th>score</th>\n",
       "    </tr>\n",
       "    <tr>\n",
       "      <th>sentiment</th>\n",
       "      <th></th>\n",
       "      <th></th>\n",
       "    </tr>\n",
       "  </thead>\n",
       "  <tbody>\n",
       "    <tr>\n",
       "      <th>0</th>\n",
       "      <td>12289</td>\n",
       "      <td>12289</td>\n",
       "    </tr>\n",
       "    <tr>\n",
       "      <th>1</th>\n",
       "      <td>4291</td>\n",
       "      <td>4291</td>\n",
       "    </tr>\n",
       "  </tbody>\n",
       "</table>\n",
       "</div>"
      ],
      "text/plain": [
       "           review  score\n",
       "sentiment               \n",
       "0           12289  12289\n",
       "1            4291   4291"
      ]
     },
     "execution_count": 17,
     "metadata": {},
     "output_type": "execute_result"
    }
   ],
   "source": [
    "df.groupby(by='sentiment').count()"
   ]
  },
  {
   "cell_type": "code",
   "execution_count": 343,
   "metadata": {},
   "outputs": [
    {
     "data": {
      "text/plain": [
       "7998"
      ]
     },
     "execution_count": 343,
     "metadata": {},
     "output_type": "execute_result"
    }
   ],
   "source": [
    "12289-4291"
   ]
  },
  {
   "cell_type": "code",
   "execution_count": 18,
   "metadata": {},
   "outputs": [],
   "source": [
    "to_remove = np.random.choice(df[df['sentiment']==0].index,size=7998,replace=False)\n",
    "df = df.drop(to_remove)"
   ]
  },
  {
   "cell_type": "code",
   "execution_count": 19,
   "metadata": {},
   "outputs": [
    {
     "data": {
      "text/html": [
       "<div>\n",
       "<style scoped>\n",
       "    .dataframe tbody tr th:only-of-type {\n",
       "        vertical-align: middle;\n",
       "    }\n",
       "\n",
       "    .dataframe tbody tr th {\n",
       "        vertical-align: top;\n",
       "    }\n",
       "\n",
       "    .dataframe thead th {\n",
       "        text-align: right;\n",
       "    }\n",
       "</style>\n",
       "<table border=\"1\" class=\"dataframe\">\n",
       "  <thead>\n",
       "    <tr style=\"text-align: right;\">\n",
       "      <th></th>\n",
       "      <th>review</th>\n",
       "      <th>score</th>\n",
       "    </tr>\n",
       "    <tr>\n",
       "      <th>sentiment</th>\n",
       "      <th></th>\n",
       "      <th></th>\n",
       "    </tr>\n",
       "  </thead>\n",
       "  <tbody>\n",
       "    <tr>\n",
       "      <th>0</th>\n",
       "      <td>4291</td>\n",
       "      <td>4291</td>\n",
       "    </tr>\n",
       "    <tr>\n",
       "      <th>1</th>\n",
       "      <td>4291</td>\n",
       "      <td>4291</td>\n",
       "    </tr>\n",
       "  </tbody>\n",
       "</table>\n",
       "</div>"
      ],
      "text/plain": [
       "           review  score\n",
       "sentiment               \n",
       "0            4291   4291\n",
       "1            4291   4291"
      ]
     },
     "execution_count": 19,
     "metadata": {},
     "output_type": "execute_result"
    }
   ],
   "source": [
    "df.groupby(by='sentiment').count()"
   ]
  },
  {
   "cell_type": "code",
   "execution_count": 20,
   "metadata": {},
   "outputs": [
    {
     "data": {
      "text/html": [
       "<div>\n",
       "<style scoped>\n",
       "    .dataframe tbody tr th:only-of-type {\n",
       "        vertical-align: middle;\n",
       "    }\n",
       "\n",
       "    .dataframe tbody tr th {\n",
       "        vertical-align: top;\n",
       "    }\n",
       "\n",
       "    .dataframe thead th {\n",
       "        text-align: right;\n",
       "    }\n",
       "</style>\n",
       "<table border=\"1\" class=\"dataframe\">\n",
       "  <thead>\n",
       "    <tr style=\"text-align: right;\">\n",
       "      <th></th>\n",
       "      <th>review</th>\n",
       "      <th>score</th>\n",
       "      <th>sentiment</th>\n",
       "    </tr>\n",
       "  </thead>\n",
       "  <tbody>\n",
       "    <tr>\n",
       "      <th>0</th>\n",
       "      <td>\\n\\t\\t Сама клиентом банка не являюсь ( Слава ...</td>\n",
       "      <td>1</td>\n",
       "      <td>0</td>\n",
       "    </tr>\n",
       "    <tr>\n",
       "      <th>1</th>\n",
       "      <td>\\n\\t\\t Банк не захотел погашать кредит по граф...</td>\n",
       "      <td>1</td>\n",
       "      <td>0</td>\n",
       "    </tr>\n",
       "    <tr>\n",
       "      <th>2</th>\n",
       "      <td>\\n\\t\\t Не являлся, не являются и не буду являт...</td>\n",
       "      <td>1</td>\n",
       "      <td>0</td>\n",
       "    </tr>\n",
       "    <tr>\n",
       "      <th>3</th>\n",
       "      <td>\\n\\t\\t Недавно заехал в отделение Измайловское...</td>\n",
       "      <td>5</td>\n",
       "      <td>1</td>\n",
       "    </tr>\n",
       "    <tr>\n",
       "      <th>4</th>\n",
       "      <td>\\n\\t\\t Всегда безупречное обслуживание, приятн...</td>\n",
       "      <td>5</td>\n",
       "      <td>1</td>\n",
       "    </tr>\n",
       "    <tr>\n",
       "      <th>...</th>\n",
       "      <td>...</td>\n",
       "      <td>...</td>\n",
       "      <td>...</td>\n",
       "    </tr>\n",
       "    <tr>\n",
       "      <th>8577</th>\n",
       "      <td>Благодарностьхочу выразить благодарность банку...</td>\n",
       "      <td>5</td>\n",
       "      <td>1</td>\n",
       "    </tr>\n",
       "    <tr>\n",
       "      <th>8578</th>\n",
       "      <td>Проблемы с переводом за границу. Решил приобре...</td>\n",
       "      <td>1</td>\n",
       "      <td>0</td>\n",
       "    </tr>\n",
       "    <tr>\n",
       "      <th>8579</th>\n",
       "      <td>Отказали в пополнении вклада Сегодня Сегодня (...</td>\n",
       "      <td>3</td>\n",
       "      <td>0</td>\n",
       "    </tr>\n",
       "    <tr>\n",
       "      <th>8580</th>\n",
       "      <td>Вернули мне мою квартиру! Взыскивали квартиру ...</td>\n",
       "      <td>5</td>\n",
       "      <td>1</td>\n",
       "    </tr>\n",
       "    <tr>\n",
       "      <th>8581</th>\n",
       "      <td>Решила открыть небольшой вклад в рублях и пути...</td>\n",
       "      <td>5</td>\n",
       "      <td>1</td>\n",
       "    </tr>\n",
       "  </tbody>\n",
       "</table>\n",
       "<p>8582 rows × 3 columns</p>\n",
       "</div>"
      ],
      "text/plain": [
       "                                                 review  score  sentiment\n",
       "0     \\n\\t\\t Сама клиентом банка не являюсь ( Слава ...      1          0\n",
       "1     \\n\\t\\t Банк не захотел погашать кредит по граф...      1          0\n",
       "2     \\n\\t\\t Не являлся, не являются и не буду являт...      1          0\n",
       "3     \\n\\t\\t Недавно заехал в отделение Измайловское...      5          1\n",
       "4     \\n\\t\\t Всегда безупречное обслуживание, приятн...      5          1\n",
       "...                                                 ...    ...        ...\n",
       "8577  Благодарностьхочу выразить благодарность банку...      5          1\n",
       "8578  Проблемы с переводом за границу. Решил приобре...      1          0\n",
       "8579  Отказали в пополнении вклада Сегодня Сегодня (...      3          0\n",
       "8580  Вернули мне мою квартиру! Взыскивали квартиру ...      5          1\n",
       "8581  Решила открыть небольшой вклад в рублях и пути...      5          1\n",
       "\n",
       "[8582 rows x 3 columns]"
      ]
     },
     "execution_count": 20,
     "metadata": {},
     "output_type": "execute_result"
    }
   ],
   "source": [
    "df = df.reset_index(drop=True)\n",
    "df"
   ]
  },
  {
   "cell_type": "code",
   "execution_count": 22,
   "metadata": {},
   "outputs": [
    {
     "name": "stderr",
     "output_type": "stream",
     "text": [
      "D:\\anaconda\\lib\\site-packages\\tqdm\\std.py:668: FutureWarning: The Panel class is removed from pandas. Accessing it from the top-level namespace will also be removed in the next version\n",
      "  from pandas import Panel\n"
     ]
    }
   ],
   "source": [
    "from tqdm import tqdm\n",
    "tqdm.pandas()"
   ]
  },
  {
   "cell_type": "code",
   "execution_count": 23,
   "metadata": {},
   "outputs": [
    {
     "name": "stderr",
     "output_type": "stream",
     "text": [
      "100%|██████████████████████████████████████████████████████████████████████████████| 8582/8582 [07:53<00:00, 18.11it/s]\n"
     ]
    },
    {
     "data": {
      "text/html": [
       "<div>\n",
       "<style scoped>\n",
       "    .dataframe tbody tr th:only-of-type {\n",
       "        vertical-align: middle;\n",
       "    }\n",
       "\n",
       "    .dataframe tbody tr th {\n",
       "        vertical-align: top;\n",
       "    }\n",
       "\n",
       "    .dataframe thead th {\n",
       "        text-align: right;\n",
       "    }\n",
       "</style>\n",
       "<table border=\"1\" class=\"dataframe\">\n",
       "  <thead>\n",
       "    <tr style=\"text-align: right;\">\n",
       "      <th></th>\n",
       "      <th>review</th>\n",
       "      <th>score</th>\n",
       "      <th>sentiment</th>\n",
       "      <th>tokens</th>\n",
       "    </tr>\n",
       "  </thead>\n",
       "  <tbody>\n",
       "    <tr>\n",
       "      <th>0</th>\n",
       "      <td>\\n\\t\\t Сама клиентом банка не являюсь ( Слава ...</td>\n",
       "      <td>1</td>\n",
       "      <td>0</td>\n",
       "      <td>[сам, клиент, банк, являться, слава, бог, обра...</td>\n",
       "    </tr>\n",
       "    <tr>\n",
       "      <th>1</th>\n",
       "      <td>\\n\\t\\t Банк не захотел погашать кредит по граф...</td>\n",
       "      <td>1</td>\n",
       "      <td>0</td>\n",
       "      <td>[банк, захотеть, погашать, кредит, график, пла...</td>\n",
       "    </tr>\n",
       "    <tr>\n",
       "      <th>2</th>\n",
       "      <td>\\n\\t\\t Не являлся, не являются и не буду являт...</td>\n",
       "      <td>1</td>\n",
       "      <td>0</td>\n",
       "      <td>[являться, являться, быть, являться, клиент, н...</td>\n",
       "    </tr>\n",
       "    <tr>\n",
       "      <th>3</th>\n",
       "      <td>\\n\\t\\t Недавно заехал в отделение Измайловское...</td>\n",
       "      <td>5</td>\n",
       "      <td>1</td>\n",
       "      <td>[недавно, заехать, отделение, измайловский, ну...</td>\n",
       "    </tr>\n",
       "    <tr>\n",
       "      <th>4</th>\n",
       "      <td>\\n\\t\\t Всегда безупречное обслуживание, приятн...</td>\n",
       "      <td>5</td>\n",
       "      <td>1</td>\n",
       "      <td>[безупречный, обслуживание, приятно, взаимодей...</td>\n",
       "    </tr>\n",
       "    <tr>\n",
       "      <th>...</th>\n",
       "      <td>...</td>\n",
       "      <td>...</td>\n",
       "      <td>...</td>\n",
       "      <td>...</td>\n",
       "    </tr>\n",
       "    <tr>\n",
       "      <th>8577</th>\n",
       "      <td>Благодарностьхочу выразить благодарность банку...</td>\n",
       "      <td>5</td>\n",
       "      <td>1</td>\n",
       "      <td>[благодарностьхотать, выразить, благодарность,...</td>\n",
       "    </tr>\n",
       "    <tr>\n",
       "      <th>8578</th>\n",
       "      <td>Проблемы с переводом за границу. Решил приобре...</td>\n",
       "      <td>1</td>\n",
       "      <td>0</td>\n",
       "      <td>[проблема, перевод, граница, решить, приобрест...</td>\n",
       "    </tr>\n",
       "    <tr>\n",
       "      <th>8579</th>\n",
       "      <td>Отказали в пополнении вклада Сегодня Сегодня (...</td>\n",
       "      <td>3</td>\n",
       "      <td>0</td>\n",
       "      <td>[отказать, пополнение, вклад, сегодня, хотеть,...</td>\n",
       "    </tr>\n",
       "    <tr>\n",
       "      <th>8580</th>\n",
       "      <td>Вернули мне мою квартиру! Взыскивали квартиру ...</td>\n",
       "      <td>5</td>\n",
       "      <td>1</td>\n",
       "      <td>[вернуть, мой, квартира, взыскивать, квартира,...</td>\n",
       "    </tr>\n",
       "    <tr>\n",
       "      <th>8581</th>\n",
       "      <td>Решила открыть небольшой вклад в рублях и пути...</td>\n",
       "      <td>5</td>\n",
       "      <td>1</td>\n",
       "      <td>[решить, открыть, небольшой, вклад, рубль, пут...</td>\n",
       "    </tr>\n",
       "  </tbody>\n",
       "</table>\n",
       "<p>8582 rows × 4 columns</p>\n",
       "</div>"
      ],
      "text/plain": [
       "                                                 review  score  sentiment  \\\n",
       "0     \\n\\t\\t Сама клиентом банка не являюсь ( Слава ...      1          0   \n",
       "1     \\n\\t\\t Банк не захотел погашать кредит по граф...      1          0   \n",
       "2     \\n\\t\\t Не являлся, не являются и не буду являт...      1          0   \n",
       "3     \\n\\t\\t Недавно заехал в отделение Измайловское...      5          1   \n",
       "4     \\n\\t\\t Всегда безупречное обслуживание, приятн...      5          1   \n",
       "...                                                 ...    ...        ...   \n",
       "8577  Благодарностьхочу выразить благодарность банку...      5          1   \n",
       "8578  Проблемы с переводом за границу. Решил приобре...      1          0   \n",
       "8579  Отказали в пополнении вклада Сегодня Сегодня (...      3          0   \n",
       "8580  Вернули мне мою квартиру! Взыскивали квартиру ...      5          1   \n",
       "8581  Решила открыть небольшой вклад в рублях и пути...      5          1   \n",
       "\n",
       "                                                 tokens  \n",
       "0     [сам, клиент, банк, являться, слава, бог, обра...  \n",
       "1     [банк, захотеть, погашать, кредит, график, пла...  \n",
       "2     [являться, являться, быть, являться, клиент, н...  \n",
       "3     [недавно, заехать, отделение, измайловский, ну...  \n",
       "4     [безупречный, обслуживание, приятно, взаимодей...  \n",
       "...                                                 ...  \n",
       "8577  [благодарностьхотать, выразить, благодарность,...  \n",
       "8578  [проблема, перевод, граница, решить, приобрест...  \n",
       "8579  [отказать, пополнение, вклад, сегодня, хотеть,...  \n",
       "8580  [вернуть, мой, квартира, взыскивать, квартира,...  \n",
       "8581  [решить, открыть, небольшой, вклад, рубль, пут...  \n",
       "\n",
       "[8582 rows x 4 columns]"
      ]
     },
     "execution_count": 23,
     "metadata": {},
     "output_type": "execute_result"
    }
   ],
   "source": [
    "df['tokens'] = df['review'].progress_apply(lambda x: tokenize_me(x))\n",
    "df"
   ]
  },
  {
   "cell_type": "code",
   "execution_count": 24,
   "metadata": {},
   "outputs": [
    {
     "name": "stdout",
     "output_type": "stream",
     "text": [
      "{'A': 'ADJ', 'ADV': 'ADV', 'ADVPRO': 'ADV', 'ANUM': 'ADJ', 'APRO': 'DET', 'COM': 'ADJ', 'CONJ': 'SCONJ', 'INTJ': 'INTJ', 'NONLEX': 'X', 'NUM': 'NUM', 'PART': 'PART', 'S': 'NOUN', 'SPRO': 'PRON', 'UNKN': 'X', 'V': 'VERB', 'P': 'ADP'}\n"
     ]
    }
   ],
   "source": [
    "import requests\n",
    "import re\n",
    "\n",
    "url = 'https://raw.githubusercontent.com/akutuzov/universal-pos-tags/4653e8a9154e93fe2f417c7fdb7a357b7d6ce333/ru-rnc.map'\n",
    "\n",
    "mapping = {}\n",
    "r = requests.get(url, stream=True)\n",
    "for pair in r.text.split('\\n'):\n",
    "    pair = re.sub('\\s+', ' ', pair, flags=re.U).split(' ')\n",
    "    if len(pair) > 1:\n",
    "        mapping[pair[0]] = pair[1]\n",
    "\n",
    "\n",
    "mapping['P'] = mapping.pop('PR')\n",
    "print(mapping)"
   ]
  },
  {
   "cell_type": "code",
   "execution_count": 25,
   "metadata": {},
   "outputs": [
    {
     "data": {
      "text/plain": [
       "['добрый',\n",
       " 'день',\n",
       " 'хотеть',\n",
       " 'выразить',\n",
       " 'огромный',\n",
       " 'благодарность',\n",
       " 'аксютина',\n",
       " 'елизавета',\n",
       " 'тверской',\n",
       " 'отделение',\n",
       " 'сбербанк',\n",
       " 'спасибо',\n",
       " 'огромный',\n",
       " 'ваш',\n",
       " 'труд',\n",
       " 'ипрофессионализм',\n",
       " 'оформлять',\n",
       " 'ипотека',\n",
       " 'елизавета',\n",
       " 'помогать',\n",
       " 'мы',\n",
       " 'вопрос',\n",
       " 'консультировать',\n",
       " 'каждый',\n",
       " 'наш',\n",
       " 'обращение',\n",
       " 'первый',\n",
       " 'звонок',\n",
       " 'очень',\n",
       " 'довольнынашим',\n",
       " 'менеджер',\n",
       " 'сотрудник',\n",
       " 'очень',\n",
       " 'компетентный',\n",
       " 'отзывчивый',\n",
       " 'большой',\n",
       " 'бытакий',\n",
       " 'специалист',\n",
       " 'знающий',\n",
       " 'сво',\n",
       " 'дело',\n",
       " 'спасибо',\n",
       " 'елизавета',\n",
       " 'ваш',\n",
       " 'труд',\n",
       " 'помощь',\n",
       " 'ваш',\n",
       " 'способность',\n",
       " 'наш',\n",
       " 'семья',\n",
       " 'очень',\n",
       " 'благодарный']"
      ]
     },
     "execution_count": 25,
     "metadata": {},
     "output_type": "execute_result"
    }
   ],
   "source": [
    "df['tokens'][2856]"
   ]
  },
  {
   "cell_type": "code",
   "execution_count": 26,
   "metadata": {},
   "outputs": [
    {
     "data": {
      "text/plain": [
       "'добрый день хотеть выразить огромный благодарность аксютина елизавета тверской отделение сбербанк спасибо огромный ваш труд ипрофессионализм оформлять ипотека елизавета помогать мы вопрос консультировать каждый наш обращение первый звонок очень довольнынашим менеджер сотрудник очень компетентный отзывчивый большой бытакий специалист знающий сво дело спасибо елизавета ваш труд помощь ваш способность наш семья очень благодарный'"
      ]
     },
     "execution_count": 26,
     "metadata": {},
     "output_type": "execute_result"
    }
   ],
   "source": [
    "str1 = ' '\n",
    "str1.join(df['tokens'][2856])"
   ]
  },
  {
   "cell_type": "code",
   "execution_count": 27,
   "metadata": {},
   "outputs": [],
   "source": [
    "import nltk\n",
    "from nltk.tokenize import word_tokenize\n",
    "def tag(data):\n",
    "    res = []\n",
    "    for word in data: \n",
    "        out = nltk.pos_tag([word], lang='rus')\n",
    "#         print(out[0][0], end='\\t')\n",
    "#         print(out[0][1][0])\n",
    "        pos = str(out[0][1][0])\n",
    "        if pos in mapping:\n",
    "            res.append(str(out[0][0]) + '_' + mapping[pos])\n",
    "    return res"
   ]
  },
  {
   "cell_type": "code",
   "execution_count": 28,
   "metadata": {},
   "outputs": [
    {
     "data": {
      "text/plain": [
       "0       [сам, клиент, банк, являться, слава, бог, обра...\n",
       "1       [банк, захотеть, погашать, кредит, график, пла...\n",
       "2       [являться, являться, быть, являться, клиент, н...\n",
       "3       [недавно, заехать, отделение, измайловский, ну...\n",
       "4       [безупречный, обслуживание, приятно, взаимодей...\n",
       "                              ...                        \n",
       "8577    [благодарностьхотать, выразить, благодарность,...\n",
       "8578    [проблема, перевод, граница, решить, приобрест...\n",
       "8579    [отказать, пополнение, вклад, сегодня, хотеть,...\n",
       "8580    [вернуть, мой, квартира, взыскивать, квартира,...\n",
       "8581    [решить, открыть, небольшой, вклад, рубль, пут...\n",
       "Name: tokens, Length: 8582, dtype: object"
      ]
     },
     "execution_count": 28,
     "metadata": {},
     "output_type": "execute_result"
    }
   ],
   "source": [
    "df['tokens']"
   ]
  },
  {
   "cell_type": "code",
   "execution_count": 29,
   "metadata": {},
   "outputs": [
    {
     "name": "stderr",
     "output_type": "stream",
     "text": [
      "100%|██████████████████████████████████████████████████████████████████████████████| 8582/8582 [05:59<00:00, 23.84it/s]\n"
     ]
    }
   ],
   "source": [
    "df['tokens'] = df['tokens'].progress_apply(lambda x: tag(data=x))"
   ]
  },
  {
   "cell_type": "code",
   "execution_count": 30,
   "metadata": {},
   "outputs": [],
   "source": [
    "import gensim.downloader\n",
    "ruscorpora = gensim.downloader.load('word2vec-ruscorpora-300')"
   ]
  },
  {
   "cell_type": "code",
   "execution_count": 142,
   "metadata": {},
   "outputs": [
    {
     "data": {
      "text/plain": [
       "35"
      ]
     },
     "execution_count": 142,
     "metadata": {},
     "output_type": "execute_result"
    }
   ],
   "source": [
    "def clean(lst):\n",
    "    for item in lst:\n",
    "        try:\n",
    "            ruscorpora.get_vector(item)\n",
    "        except KeyError:\n",
    "            pass\n",
    "        else:\n",
    "            yield ruscorpora.get_vector(item)\n",
    "\n",
    "cleaned_list = clean(df['tokens'][3])\n",
    "len(list(cleaned_list))"
   ]
  },
  {
   "cell_type": "code",
   "execution_count": 32,
   "metadata": {},
   "outputs": [
    {
     "name": "stderr",
     "output_type": "stream",
     "text": [
      "100%|████████████████████████████████████████████████████████████████████████████| 8582/8582 [00:01<00:00, 7574.53it/s]\n"
     ]
    }
   ],
   "source": [
    "df['vecs'] = df['tokens'].progress_apply(lambda x: list(clean(x)))"
   ]
  },
  {
   "cell_type": "code",
   "execution_count": 33,
   "metadata": {},
   "outputs": [],
   "source": [
    "df['vec_len'] = df['vecs'].apply(lambda x: len(x))"
   ]
  },
  {
   "cell_type": "code",
   "execution_count": 34,
   "metadata": {},
   "outputs": [
    {
     "data": {
      "text/html": [
       "<div>\n",
       "<style scoped>\n",
       "    .dataframe tbody tr th:only-of-type {\n",
       "        vertical-align: middle;\n",
       "    }\n",
       "\n",
       "    .dataframe tbody tr th {\n",
       "        vertical-align: top;\n",
       "    }\n",
       "\n",
       "    .dataframe thead th {\n",
       "        text-align: right;\n",
       "    }\n",
       "</style>\n",
       "<table border=\"1\" class=\"dataframe\">\n",
       "  <thead>\n",
       "    <tr style=\"text-align: right;\">\n",
       "      <th></th>\n",
       "      <th>review</th>\n",
       "      <th>score</th>\n",
       "      <th>sentiment</th>\n",
       "      <th>tokens</th>\n",
       "      <th>vecs</th>\n",
       "      <th>vec_len</th>\n",
       "    </tr>\n",
       "  </thead>\n",
       "  <tbody>\n",
       "    <tr>\n",
       "      <th>0</th>\n",
       "      <td>\\n\\t\\t Сама клиентом банка не являюсь ( Слава ...</td>\n",
       "      <td>1</td>\n",
       "      <td>0</td>\n",
       "      <td>[сам_ADJ, клиент_NOUN, банк_NOUN, являться_VER...</td>\n",
       "      <td>[[0.033481065, -0.03733594, 0.0079718, -0.0843...</td>\n",
       "      <td>35</td>\n",
       "    </tr>\n",
       "    <tr>\n",
       "      <th>1</th>\n",
       "      <td>\\n\\t\\t Банк не захотел погашать кредит по граф...</td>\n",
       "      <td>1</td>\n",
       "      <td>0</td>\n",
       "      <td>[банк_NOUN, захотеть_VERB, погашать_VERB, кред...</td>\n",
       "      <td>[[0.01879481, 0.0004580109, -0.07315521, -0.03...</td>\n",
       "      <td>110</td>\n",
       "    </tr>\n",
       "    <tr>\n",
       "      <th>2</th>\n",
       "      <td>\\n\\t\\t Не являлся, не являются и не буду являт...</td>\n",
       "      <td>1</td>\n",
       "      <td>0</td>\n",
       "      <td>[являться_VERB, являться_VERB, быть_VERB, явля...</td>\n",
       "      <td>[[-0.058114763, -0.011728319, 0.004258351, 0.0...</td>\n",
       "      <td>43</td>\n",
       "    </tr>\n",
       "    <tr>\n",
       "      <th>3</th>\n",
       "      <td>\\n\\t\\t Недавно заехал в отделение Измайловское...</td>\n",
       "      <td>5</td>\n",
       "      <td>1</td>\n",
       "      <td>[недавно_ADJ, заехать_VERB, отделение_NOUN, из...</td>\n",
       "      <td>[[0.11404666, -0.0123066455, 0.011621393, 0.00...</td>\n",
       "      <td>35</td>\n",
       "    </tr>\n",
       "    <tr>\n",
       "      <th>4</th>\n",
       "      <td>\\n\\t\\t Всегда безупречное обслуживание, приятн...</td>\n",
       "      <td>5</td>\n",
       "      <td>1</td>\n",
       "      <td>[безупречный_ADJ, обслуживание_NOUN, приятно_A...</td>\n",
       "      <td>[[-0.00014390046, -0.02413276, -0.07803641, 0....</td>\n",
       "      <td>26</td>\n",
       "    </tr>\n",
       "    <tr>\n",
       "      <th>...</th>\n",
       "      <td>...</td>\n",
       "      <td>...</td>\n",
       "      <td>...</td>\n",
       "      <td>...</td>\n",
       "      <td>...</td>\n",
       "      <td>...</td>\n",
       "    </tr>\n",
       "    <tr>\n",
       "      <th>8577</th>\n",
       "      <td>Благодарностьхочу выразить благодарность банку...</td>\n",
       "      <td>5</td>\n",
       "      <td>1</td>\n",
       "      <td>[благодарностьхотать_VERB, выразить_VERB, благ...</td>\n",
       "      <td>[[0.1457346, -0.091823526, -0.052429546, -0.01...</td>\n",
       "      <td>19</td>\n",
       "    </tr>\n",
       "    <tr>\n",
       "      <th>8578</th>\n",
       "      <td>Проблемы с переводом за границу. Решил приобре...</td>\n",
       "      <td>1</td>\n",
       "      <td>0</td>\n",
       "      <td>[проблема_NOUN, перевод_NOUN, граница_NOUN, ре...</td>\n",
       "      <td>[[-0.04735034, -0.049576934, -0.0570013, 0.010...</td>\n",
       "      <td>143</td>\n",
       "    </tr>\n",
       "    <tr>\n",
       "      <th>8579</th>\n",
       "      <td>Отказали в пополнении вклада Сегодня Сегодня (...</td>\n",
       "      <td>3</td>\n",
       "      <td>0</td>\n",
       "      <td>[отказать_VERB, пополнение_NOUN, вклад_NOUN, с...</td>\n",
       "      <td>[[0.08280478, -0.1267904, 0.03399948, 0.002647...</td>\n",
       "      <td>19</td>\n",
       "    </tr>\n",
       "    <tr>\n",
       "      <th>8580</th>\n",
       "      <td>Вернули мне мою квартиру! Взыскивали квартиру ...</td>\n",
       "      <td>5</td>\n",
       "      <td>1</td>\n",
       "      <td>[вернуть_VERB, мой_ADJ, квартира_NOUN, взыскив...</td>\n",
       "      <td>[[0.02731199, 0.10514573, -0.050458133, 0.0066...</td>\n",
       "      <td>16</td>\n",
       "    </tr>\n",
       "    <tr>\n",
       "      <th>8581</th>\n",
       "      <td>Решила открыть небольшой вклад в рублях и пути...</td>\n",
       "      <td>5</td>\n",
       "      <td>1</td>\n",
       "      <td>[решить_VERB, открыть_VERB, небольшой_ADJ, вкл...</td>\n",
       "      <td>[[0.06041052, -0.013378478, 0.0834815, 0.08849...</td>\n",
       "      <td>59</td>\n",
       "    </tr>\n",
       "  </tbody>\n",
       "</table>\n",
       "<p>8582 rows × 6 columns</p>\n",
       "</div>"
      ],
      "text/plain": [
       "                                                 review  score  sentiment  \\\n",
       "0     \\n\\t\\t Сама клиентом банка не являюсь ( Слава ...      1          0   \n",
       "1     \\n\\t\\t Банк не захотел погашать кредит по граф...      1          0   \n",
       "2     \\n\\t\\t Не являлся, не являются и не буду являт...      1          0   \n",
       "3     \\n\\t\\t Недавно заехал в отделение Измайловское...      5          1   \n",
       "4     \\n\\t\\t Всегда безупречное обслуживание, приятн...      5          1   \n",
       "...                                                 ...    ...        ...   \n",
       "8577  Благодарностьхочу выразить благодарность банку...      5          1   \n",
       "8578  Проблемы с переводом за границу. Решил приобре...      1          0   \n",
       "8579  Отказали в пополнении вклада Сегодня Сегодня (...      3          0   \n",
       "8580  Вернули мне мою квартиру! Взыскивали квартиру ...      5          1   \n",
       "8581  Решила открыть небольшой вклад в рублях и пути...      5          1   \n",
       "\n",
       "                                                 tokens  \\\n",
       "0     [сам_ADJ, клиент_NOUN, банк_NOUN, являться_VER...   \n",
       "1     [банк_NOUN, захотеть_VERB, погашать_VERB, кред...   \n",
       "2     [являться_VERB, являться_VERB, быть_VERB, явля...   \n",
       "3     [недавно_ADJ, заехать_VERB, отделение_NOUN, из...   \n",
       "4     [безупречный_ADJ, обслуживание_NOUN, приятно_A...   \n",
       "...                                                 ...   \n",
       "8577  [благодарностьхотать_VERB, выразить_VERB, благ...   \n",
       "8578  [проблема_NOUN, перевод_NOUN, граница_NOUN, ре...   \n",
       "8579  [отказать_VERB, пополнение_NOUN, вклад_NOUN, с...   \n",
       "8580  [вернуть_VERB, мой_ADJ, квартира_NOUN, взыскив...   \n",
       "8581  [решить_VERB, открыть_VERB, небольшой_ADJ, вкл...   \n",
       "\n",
       "                                                   vecs  vec_len  \n",
       "0     [[0.033481065, -0.03733594, 0.0079718, -0.0843...       35  \n",
       "1     [[0.01879481, 0.0004580109, -0.07315521, -0.03...      110  \n",
       "2     [[-0.058114763, -0.011728319, 0.004258351, 0.0...       43  \n",
       "3     [[0.11404666, -0.0123066455, 0.011621393, 0.00...       35  \n",
       "4     [[-0.00014390046, -0.02413276, -0.07803641, 0....       26  \n",
       "...                                                 ...      ...  \n",
       "8577  [[0.1457346, -0.091823526, -0.052429546, -0.01...       19  \n",
       "8578  [[-0.04735034, -0.049576934, -0.0570013, 0.010...      143  \n",
       "8579  [[0.08280478, -0.1267904, 0.03399948, 0.002647...       19  \n",
       "8580  [[0.02731199, 0.10514573, -0.050458133, 0.0066...       16  \n",
       "8581  [[0.06041052, -0.013378478, 0.0834815, 0.08849...       59  \n",
       "\n",
       "[8582 rows x 6 columns]"
      ]
     },
     "execution_count": 34,
     "metadata": {},
     "output_type": "execute_result"
    }
   ],
   "source": [
    "df"
   ]
  },
  {
   "cell_type": "code",
   "execution_count": 41,
   "metadata": {},
   "outputs": [
    {
     "data": {
      "text/html": [
       "<div>\n",
       "<style scoped>\n",
       "    .dataframe tbody tr th:only-of-type {\n",
       "        vertical-align: middle;\n",
       "    }\n",
       "\n",
       "    .dataframe tbody tr th {\n",
       "        vertical-align: top;\n",
       "    }\n",
       "\n",
       "    .dataframe thead th {\n",
       "        text-align: right;\n",
       "    }\n",
       "</style>\n",
       "<table border=\"1\" class=\"dataframe\">\n",
       "  <thead>\n",
       "    <tr style=\"text-align: right;\">\n",
       "      <th></th>\n",
       "      <th>sentiment</th>\n",
       "      <th>vecs</th>\n",
       "    </tr>\n",
       "  </thead>\n",
       "  <tbody>\n",
       "    <tr>\n",
       "      <th>0</th>\n",
       "      <td>0</td>\n",
       "      <td>[[0.033481065, -0.03733594, 0.0079718, -0.0843...</td>\n",
       "    </tr>\n",
       "    <tr>\n",
       "      <th>1</th>\n",
       "      <td>0</td>\n",
       "      <td>[[0.01879481, 0.0004580109, -0.07315521, -0.03...</td>\n",
       "    </tr>\n",
       "    <tr>\n",
       "      <th>2</th>\n",
       "      <td>0</td>\n",
       "      <td>[[-0.058114763, -0.011728319, 0.004258351, 0.0...</td>\n",
       "    </tr>\n",
       "    <tr>\n",
       "      <th>3</th>\n",
       "      <td>1</td>\n",
       "      <td>[[0.11404666, -0.0123066455, 0.011621393, 0.00...</td>\n",
       "    </tr>\n",
       "    <tr>\n",
       "      <th>4</th>\n",
       "      <td>1</td>\n",
       "      <td>[[-0.00014390046, -0.02413276, -0.07803641, 0....</td>\n",
       "    </tr>\n",
       "    <tr>\n",
       "      <th>...</th>\n",
       "      <td>...</td>\n",
       "      <td>...</td>\n",
       "    </tr>\n",
       "    <tr>\n",
       "      <th>8577</th>\n",
       "      <td>1</td>\n",
       "      <td>[[0.1457346, -0.091823526, -0.052429546, -0.01...</td>\n",
       "    </tr>\n",
       "    <tr>\n",
       "      <th>8578</th>\n",
       "      <td>0</td>\n",
       "      <td>[[-0.04735034, -0.049576934, -0.0570013, 0.010...</td>\n",
       "    </tr>\n",
       "    <tr>\n",
       "      <th>8579</th>\n",
       "      <td>0</td>\n",
       "      <td>[[0.08280478, -0.1267904, 0.03399948, 0.002647...</td>\n",
       "    </tr>\n",
       "    <tr>\n",
       "      <th>8580</th>\n",
       "      <td>1</td>\n",
       "      <td>[[0.02731199, 0.10514573, -0.050458133, 0.0066...</td>\n",
       "    </tr>\n",
       "    <tr>\n",
       "      <th>8581</th>\n",
       "      <td>1</td>\n",
       "      <td>[[0.06041052, -0.013378478, 0.0834815, 0.08849...</td>\n",
       "    </tr>\n",
       "  </tbody>\n",
       "</table>\n",
       "<p>8582 rows × 2 columns</p>\n",
       "</div>"
      ],
      "text/plain": [
       "      sentiment                                               vecs\n",
       "0             0  [[0.033481065, -0.03733594, 0.0079718, -0.0843...\n",
       "1             0  [[0.01879481, 0.0004580109, -0.07315521, -0.03...\n",
       "2             0  [[-0.058114763, -0.011728319, 0.004258351, 0.0...\n",
       "3             1  [[0.11404666, -0.0123066455, 0.011621393, 0.00...\n",
       "4             1  [[-0.00014390046, -0.02413276, -0.07803641, 0....\n",
       "...         ...                                                ...\n",
       "8577          1  [[0.1457346, -0.091823526, -0.052429546, -0.01...\n",
       "8578          0  [[-0.04735034, -0.049576934, -0.0570013, 0.010...\n",
       "8579          0  [[0.08280478, -0.1267904, 0.03399948, 0.002647...\n",
       "8580          1  [[0.02731199, 0.10514573, -0.050458133, 0.0066...\n",
       "8581          1  [[0.06041052, -0.013378478, 0.0834815, 0.08849...\n",
       "\n",
       "[8582 rows x 2 columns]"
      ]
     },
     "execution_count": 41,
     "metadata": {},
     "output_type": "execute_result"
    }
   ],
   "source": [
    "data = df[['sentiment', 'vecs']]\n",
    "data"
   ]
  },
  {
   "cell_type": "code",
   "execution_count": 35,
   "metadata": {},
   "outputs": [],
   "source": [
    "from __future__ import absolute_import, division, print_function, unicode_literals\n",
    "\n",
    "try:\n",
    "  %tensorflow_version 2.x\n",
    "except Exception:\n",
    "  pass"
   ]
  },
  {
   "cell_type": "code",
   "execution_count": 36,
   "metadata": {},
   "outputs": [],
   "source": [
    "def get_max_length(df):\n",
    "    \"\"\"\n",
    "    get max token counts from train data, \n",
    "    so we use this number as fixed length input to RNN cell\n",
    "    \"\"\"\n",
    "    max_length = 0\n",
    "    for row in df['vecs']:\n",
    "        if len(row) > max_length:\n",
    "            max_length = len(row)\n",
    "    return max_length"
   ]
  },
  {
   "cell_type": "code",
   "execution_count": 37,
   "metadata": {},
   "outputs": [
    {
     "data": {
      "text/plain": [
       "557"
      ]
     },
     "execution_count": 37,
     "metadata": {},
     "output_type": "execute_result"
    }
   ],
   "source": [
    "max_length = get_max_length(df)\n",
    "max_length"
   ]
  },
  {
   "cell_type": "code",
   "execution_count": 38,
   "metadata": {},
   "outputs": [],
   "source": [
    "def sentiment_encode(sentiment):\n",
    "    \"\"\"\n",
    "    return one hot encoding for Y value\n",
    "    \"\"\"\n",
    "    if sentiment == 1:\n",
    "        return [1,0]\n",
    "    else:\n",
    "        return [0,1]"
   ]
  },
  {
   "cell_type": "code",
   "execution_count": 39,
   "metadata": {},
   "outputs": [],
   "source": [
    "def get_padded_encoded_reviews(encoded_reviews):\n",
    "    \"\"\"\n",
    "    for short sentences, we prepend zero padding so all input to RNN has same length\n",
    "    \"\"\"\n",
    "    padded_reviews_encoding = []\n",
    "    for enc_review in encoded_reviews:\n",
    "        zero_padding_cnt = max_length - enc_review.shape[0]\n",
    "        pad = np.zeros((1, 300))\n",
    "        for i in range(zero_padding_cnt):\n",
    "            enc_review = np.concatenate((pad, enc_review), axis=0)\n",
    "        padded_reviews_encoding.append(enc_review)\n",
    "    return padded_reviews_encoding"
   ]
  },
  {
   "cell_type": "code",
   "execution_count": 42,
   "metadata": {},
   "outputs": [
    {
     "data": {
      "text/plain": [
       "(8582,)"
      ]
     },
     "execution_count": 42,
     "metadata": {},
     "output_type": "execute_result"
    }
   ],
   "source": [
    "np.array(data['vecs'].values).shape"
   ]
  },
  {
   "cell_type": "code",
   "execution_count": 46,
   "metadata": {},
   "outputs": [],
   "source": [
    "X = data['vecs']"
   ]
  },
  {
   "cell_type": "code",
   "execution_count": 50,
   "metadata": {},
   "outputs": [
    {
     "data": {
      "text/plain": [
       "numpy.float32"
      ]
     },
     "execution_count": 50,
     "metadata": {},
     "output_type": "execute_result"
    }
   ],
   "source": [
    "type(X[0][0][0])"
   ]
  },
  {
   "cell_type": "code",
   "execution_count": 54,
   "metadata": {},
   "outputs": [
    {
     "name": "stdout",
     "output_type": "stream",
     "text": [
      "Shape of data tensor: (8582, 557, 300)\n"
     ]
    }
   ],
   "source": [
    "from keras.preprocessing.sequence import pad_sequences\n",
    "X = data['vecs']\n",
    "X = pad_sequences(X, dtype='float32', maxlen=max_length)\n",
    "print('Shape of data tensor:', X.shape)"
   ]
  },
  {
   "cell_type": "code",
   "execution_count": 56,
   "metadata": {},
   "outputs": [
    {
     "name": "stdout",
     "output_type": "stream",
     "text": [
      "Shape of data tensor: (8582, 2)\n"
     ]
    }
   ],
   "source": [
    "sentiments = df['sentiment'].tolist()\n",
    "encoded_sentiment = [sentiment_encode(sentiment) for sentiment in sentiments]\n",
    "Y = np.array(encoded_sentiment)\n",
    "print('Shape of data tensor:', Y.shape)"
   ]
  },
  {
   "cell_type": "code",
   "execution_count": 58,
   "metadata": {},
   "outputs": [],
   "source": [
    "from keras.models import Sequential\n",
    "from keras.layers import Dense, Embedding, LSTM, SpatialDropout1D\n",
    "from sklearn.model_selection import train_test_split\n",
    "from keras.layers import Dropout\n",
    "from keras.callbacks import EarlyStopping"
   ]
  },
  {
   "cell_type": "code",
   "execution_count": 59,
   "metadata": {},
   "outputs": [
    {
     "name": "stdout",
     "output_type": "stream",
     "text": [
      "(7723, 557, 300) (7723, 2)\n",
      "(859, 557, 300) (859, 2)\n"
     ]
    }
   ],
   "source": [
    "X_train, X_test, Y_train, Y_test = train_test_split(X,Y, test_size = 0.10, random_state = 42)\n",
    "print(X_train.shape,Y_train.shape)\n",
    "print(X_test.shape,Y_test.shape)"
   ]
  },
  {
   "cell_type": "code",
   "execution_count": 60,
   "metadata": {},
   "outputs": [
    {
     "data": {
      "text/plain": [
       "(7723, 557, 300)"
      ]
     },
     "execution_count": 60,
     "metadata": {},
     "output_type": "execute_result"
    }
   ],
   "source": [
    "X_train.shape"
   ]
  },
  {
   "cell_type": "code",
   "execution_count": 61,
   "metadata": {},
   "outputs": [
    {
     "data": {
      "text/plain": [
       "array([[[ 0.        ,  0.        ,  0.        , ...,  0.        ,\n",
       "          0.        ,  0.        ],\n",
       "        [ 0.        ,  0.        ,  0.        , ...,  0.        ,\n",
       "          0.        ,  0.        ],\n",
       "        [ 0.        ,  0.        ,  0.        , ...,  0.        ,\n",
       "          0.        ,  0.        ],\n",
       "        ...,\n",
       "        [ 0.01879481,  0.00045801, -0.07315521, ..., -0.02883766,\n",
       "          0.00159956,  0.04203274],\n",
       "        [-0.0093598 , -0.05110545,  0.1248969 , ...,  0.01792698,\n",
       "          0.01748218, -0.08008909],\n",
       "        [ 0.12127963, -0.00756038,  0.01519753, ...,  0.08081351,\n",
       "         -0.07462595, -0.04666181]],\n",
       "\n",
       "       [[ 0.        ,  0.        ,  0.        , ...,  0.        ,\n",
       "          0.        ,  0.        ],\n",
       "        [ 0.        ,  0.        ,  0.        , ...,  0.        ,\n",
       "          0.        ,  0.        ],\n",
       "        [ 0.        ,  0.        ,  0.        , ...,  0.        ,\n",
       "          0.        ,  0.        ],\n",
       "        ...,\n",
       "        [-0.01580269,  0.03877226, -0.04708369, ...,  0.07085106,\n",
       "         -0.03844939, -0.03883601],\n",
       "        [-0.03377281, -0.0021913 ,  0.06140104, ...,  0.05080102,\n",
       "          0.04131043,  0.09041169],\n",
       "        [ 0.0063981 , -0.04771655, -0.02800628, ...,  0.00024982,\n",
       "          0.0071262 , -0.02201472]],\n",
       "\n",
       "       [[ 0.        ,  0.        ,  0.        , ...,  0.        ,\n",
       "          0.        ,  0.        ],\n",
       "        [ 0.        ,  0.        ,  0.        , ...,  0.        ,\n",
       "          0.        ,  0.        ],\n",
       "        [ 0.        ,  0.        ,  0.        , ...,  0.        ,\n",
       "          0.        ,  0.        ],\n",
       "        ...,\n",
       "        [ 0.09115685,  0.03054686,  0.02122033, ..., -0.04257265,\n",
       "          0.04818691,  0.01294634],\n",
       "        [ 0.06827005, -0.01737011, -0.00769442, ...,  0.02812453,\n",
       "          0.01006855,  0.00420999],\n",
       "        [ 0.04150061, -0.02103976, -0.00480212, ...,  0.11235984,\n",
       "         -0.03682063,  0.0274784 ]],\n",
       "\n",
       "       ...,\n",
       "\n",
       "       [[ 0.        ,  0.        ,  0.        , ...,  0.        ,\n",
       "          0.        ,  0.        ],\n",
       "        [ 0.        ,  0.        ,  0.        , ...,  0.        ,\n",
       "          0.        ,  0.        ],\n",
       "        [ 0.        ,  0.        ,  0.        , ...,  0.        ,\n",
       "          0.        ,  0.        ],\n",
       "        ...,\n",
       "        [ 0.01879481,  0.00045801, -0.07315521, ..., -0.02883766,\n",
       "          0.00159956,  0.04203274],\n",
       "        [ 0.0367468 ,  0.02055964,  0.05956092, ...,  0.05199113,\n",
       "         -0.0213161 , -0.04769327],\n",
       "        [-0.02274102, -0.04392707, -0.02117318, ...,  0.09235595,\n",
       "         -0.09287401, -0.04715481]],\n",
       "\n",
       "       [[ 0.        ,  0.        ,  0.        , ...,  0.        ,\n",
       "          0.        ,  0.        ],\n",
       "        [ 0.        ,  0.        ,  0.        , ...,  0.        ,\n",
       "          0.        ,  0.        ],\n",
       "        [ 0.        ,  0.        ,  0.        , ...,  0.        ,\n",
       "          0.        ,  0.        ],\n",
       "        ...,\n",
       "        [-0.03099334,  0.00615665, -0.02387994, ...,  0.02400837,\n",
       "         -0.11200626,  0.01644111],\n",
       "        [ 0.1761722 ,  0.08912348, -0.06125892, ..., -0.03646013,\n",
       "         -0.10852128, -0.05581944],\n",
       "        [ 0.01879481,  0.00045801, -0.07315521, ..., -0.02883766,\n",
       "          0.00159956,  0.04203274]],\n",
       "\n",
       "       [[ 0.        ,  0.        ,  0.        , ...,  0.        ,\n",
       "          0.        ,  0.        ],\n",
       "        [ 0.        ,  0.        ,  0.        , ...,  0.        ,\n",
       "          0.        ,  0.        ],\n",
       "        [ 0.        ,  0.        ,  0.        , ...,  0.        ,\n",
       "          0.        ,  0.        ],\n",
       "        ...,\n",
       "        [-0.05588051,  0.03914362, -0.01163811, ...,  0.13620421,\n",
       "          0.00505545, -0.00981619],\n",
       "        [ 0.02314058,  0.13440934, -0.06119711, ..., -0.00615534,\n",
       "         -0.03015994, -0.09093997],\n",
       "        [ 0.09150318, -0.05159178,  0.01258405, ...,  0.00875092,\n",
       "         -0.04000087, -0.10271084]]], dtype=float32)"
      ]
     },
     "execution_count": 61,
     "metadata": {},
     "output_type": "execute_result"
    }
   ],
   "source": [
    "X_train"
   ]
  },
  {
   "cell_type": "code",
   "execution_count": 62,
   "metadata": {},
   "outputs": [],
   "source": [
    "model = Sequential()\n",
    "# model.add(Embedding(577, 100, input_length=X.shape[1]))\n",
    "# model.add(SpatialDropout1D(0.2))\n",
    "model.add(LSTM(100, return_sequences=False))\n",
    "# model.add(Dropout(0.2))\n",
    "model.add(Dense(2, activation='softmax'))\n",
    "model.compile(loss='categorical_crossentropy', optimizer='adam', metrics=['accuracy'])\n",
    "# print(model.summary())"
   ]
  },
  {
   "cell_type": "code",
   "execution_count": 64,
   "metadata": {
    "scrolled": false
   },
   "outputs": [
    {
     "name": "stdout",
     "output_type": "stream",
     "text": [
      "Epoch 1/15\n",
      "242/242 [==============================] - 56s 230ms/step - loss: 0.4118 - accuracy: 0.8230\n",
      "Epoch 2/15\n",
      "242/242 [==============================] - 57s 234ms/step - loss: 0.3206 - accuracy: 0.8629\n",
      "Epoch 3/15\n",
      "242/242 [==============================] - 54s 223ms/step - loss: 0.2865 - accuracy: 0.8828\n",
      "Epoch 4/15\n",
      "242/242 [==============================] - 54s 223ms/step - loss: 0.2942 - accuracy: 0.8795\n",
      "Epoch 5/15\n",
      "242/242 [==============================] - 55s 226ms/step - loss: 0.2570 - accuracy: 0.8994\n",
      "Epoch 6/15\n",
      "242/242 [==============================] - 55s 226ms/step - loss: 0.2574 - accuracy: 0.8968\n",
      "Epoch 7/15\n",
      "242/242 [==============================] - 54s 224ms/step - loss: 0.2435 - accuracy: 0.9025\n",
      "Epoch 8/15\n",
      "242/242 [==============================] - 55s 226ms/step - loss: 0.2348 - accuracy: 0.9050\n",
      "Epoch 9/15\n",
      "242/242 [==============================] - 56s 233ms/step - loss: 0.2199 - accuracy: 0.9153\n",
      "Epoch 10/15\n",
      "242/242 [==============================] - 54s 224ms/step - loss: 0.2176 - accuracy: 0.9136\n",
      "Epoch 11/15\n",
      "242/242 [==============================] - 55s 226ms/step - loss: 0.2043 - accuracy: 0.9204\n",
      "Epoch 12/15\n",
      "242/242 [==============================] - 54s 222ms/step - loss: 0.1917 - accuracy: 0.9292\n",
      "Epoch 13/15\n",
      "242/242 [==============================] - 54s 224ms/step - loss: 0.1847 - accuracy: 0.9293\n",
      "Epoch 14/15\n",
      "242/242 [==============================] - 54s 223ms/step - loss: 0.1729 - accuracy: 0.9338\n",
      "Epoch 15/15\n",
      "242/242 [==============================] - 55s 225ms/step - loss: 0.1668 - accuracy: 0.9369\n"
     ]
    },
    {
     "data": {
      "text/plain": [
       "<tensorflow.python.keras.callbacks.History at 0x21b15f22c10>"
      ]
     },
     "execution_count": 64,
     "metadata": {},
     "output_type": "execute_result"
    }
   ],
   "source": [
    "model.fit(X_train, Y_train,epochs=15)"
   ]
  },
  {
   "cell_type": "code",
   "execution_count": 65,
   "metadata": {},
   "outputs": [
    {
     "name": "stdout",
     "output_type": "stream",
     "text": [
      "27/27 [==============================] - 2s 79ms/step - loss: 0.3465 - accuracy: 0.8696\n",
      "Test set\n",
      "  Loss: 0.346\n",
      "  Accuracy: 0.870\n"
     ]
    }
   ],
   "source": [
    "accr = model.evaluate(X_test,Y_test)\n",
    "print('Test set\\n  Loss: {:0.3f}\\n  Accuracy: {:0.3f}'.format(accr[0],accr[1]))"
   ]
  },
  {
   "cell_type": "code",
   "execution_count": 150,
   "metadata": {},
   "outputs": [],
   "source": [
    "def test_text(text):\n",
    "    tokens = [tokenize_me(t) for t in text]\n",
    "#     print(tokens)\n",
    "    tokens = [tag(i) for i in tokens]\n",
    "#     print(tokens)\n",
    "    vecs = [list(clean(i)) for i in tokens]\n",
    "#     print(vecs)\n",
    "#     print(np.array(vecs).shape)\n",
    "    padded = pad_sequences(vecs, dtype='float32', maxlen=max_length)\n",
    "    print(padded.shape)\n",
    "    return np.array(padded)"
   ]
  },
  {
   "cell_type": "code",
   "execution_count": 151,
   "metadata": {},
   "outputs": [
    {
     "name": "stdout",
     "output_type": "stream",
     "text": [
      "(1, 557, 300)\n"
     ]
    },
    {
     "data": {
      "text/plain": [
       "array([[[ 0.        ,  0.        ,  0.        , ...,  0.        ,\n",
       "          0.        ,  0.        ],\n",
       "        [ 0.        ,  0.        ,  0.        , ...,  0.        ,\n",
       "          0.        ,  0.        ],\n",
       "        [ 0.        ,  0.        ,  0.        , ...,  0.        ,\n",
       "          0.        ,  0.        ],\n",
       "        ...,\n",
       "        [ 0.        ,  0.        ,  0.        , ...,  0.        ,\n",
       "          0.        ,  0.        ],\n",
       "        [ 0.01879481,  0.00045801, -0.07315521, ..., -0.02883766,\n",
       "          0.00159956,  0.04203274],\n",
       "        [ 0.08459666,  0.02701921,  0.02729217, ...,  0.10459866,\n",
       "          0.01088273,  0.00445716]]], dtype=float32)"
      ]
     },
     "execution_count": 151,
     "metadata": {},
     "output_type": "execute_result"
    }
   ],
   "source": [
    "text = test_text(['Этот банк очень хорош'])\n",
    "text"
   ]
  },
  {
   "cell_type": "code",
   "execution_count": 152,
   "metadata": {},
   "outputs": [],
   "source": [
    "pred = model.predict(text)"
   ]
  },
  {
   "cell_type": "code",
   "execution_count": 157,
   "metadata": {},
   "outputs": [
    {
     "name": "stdout",
     "output_type": "stream",
     "text": [
      "Positive review\n"
     ]
    }
   ],
   "source": [
    "if pred[0][0] > pred[0][1]:\n",
    "    print(\"Negative review\")\n",
    "else:\n",
    "    print(\"Positive review\")"
   ]
  },
  {
   "cell_type": "code",
   "execution_count": 160,
   "metadata": {},
   "outputs": [
    {
     "data": {
      "text/html": [
       "<div>\n",
       "<style scoped>\n",
       "    .dataframe tbody tr th:only-of-type {\n",
       "        vertical-align: middle;\n",
       "    }\n",
       "\n",
       "    .dataframe tbody tr th {\n",
       "        vertical-align: top;\n",
       "    }\n",
       "\n",
       "    .dataframe thead th {\n",
       "        text-align: right;\n",
       "    }\n",
       "</style>\n",
       "<table border=\"1\" class=\"dataframe\">\n",
       "  <thead>\n",
       "    <tr style=\"text-align: right;\">\n",
       "      <th></th>\n",
       "      <th>bank_href</th>\n",
       "      <th>login</th>\n",
       "      <th>review</th>\n",
       "      <th>bank_name</th>\n",
       "      <th>site</th>\n",
       "      <th>date</th>\n",
       "      <th>message_href</th>\n",
       "      <th>score</th>\n",
       "      <th>status</th>\n",
       "      <th>user_href</th>\n",
       "    </tr>\n",
       "  </thead>\n",
       "  <tbody>\n",
       "    <tr>\n",
       "      <th>0</th>\n",
       "      <td>/kredit-evropa-bank.html</td>\n",
       "      <td>NaN</td>\n",
       "      <td>Брал кредит в данной организации, после погаше...</td>\n",
       "      <td>кредит европа банк</td>\n",
       "      <td>http://bankireview.ru</td>\n",
       "      <td>NaN</td>\n",
       "      <td>NaN</td>\n",
       "      <td>NaN</td>\n",
       "      <td>NaN</td>\n",
       "      <td>NaN</td>\n",
       "    </tr>\n",
       "    <tr>\n",
       "      <th>1</th>\n",
       "      <td>/kredit-evropa-bank.html</td>\n",
       "      <td>NaN</td>\n",
       "      <td>В 2011 году,мною была оформлена мега карта в Т...</td>\n",
       "      <td>кредит европа банк</td>\n",
       "      <td>http://bankireview.ru</td>\n",
       "      <td>NaN</td>\n",
       "      <td>NaN</td>\n",
       "      <td>NaN</td>\n",
       "      <td>NaN</td>\n",
       "      <td>NaN</td>\n",
       "    </tr>\n",
       "    <tr>\n",
       "      <th>2</th>\n",
       "      <td>/kredit-evropa-bank.html</td>\n",
       "      <td>NaN</td>\n",
       "      <td>С родителями увидели рекламу вклада Осеннее пр...</td>\n",
       "      <td>кредит европа банк</td>\n",
       "      <td>http://bankireview.ru</td>\n",
       "      <td>NaN</td>\n",
       "      <td>NaN</td>\n",
       "      <td>NaN</td>\n",
       "      <td>NaN</td>\n",
       "      <td>NaN</td>\n",
       "    </tr>\n",
       "    <tr>\n",
       "      <th>3</th>\n",
       "      <td>/kredit-evropa-bank.html</td>\n",
       "      <td>NaN</td>\n",
       "      <td>Связать три года своей жизни с этим непорядочн...</td>\n",
       "      <td>кредит европа банк</td>\n",
       "      <td>http://bankireview.ru</td>\n",
       "      <td>NaN</td>\n",
       "      <td>NaN</td>\n",
       "      <td>NaN</td>\n",
       "      <td>NaN</td>\n",
       "      <td>NaN</td>\n",
       "    </tr>\n",
       "    <tr>\n",
       "      <th>4</th>\n",
       "      <td>/kredit-evropa-bank.html</td>\n",
       "      <td>NaN</td>\n",
       "      <td>Пользуюсь месяц карточкой Card Plus, сегодня п...</td>\n",
       "      <td>кредит европа банк</td>\n",
       "      <td>http://bankireview.ru</td>\n",
       "      <td>NaN</td>\n",
       "      <td>NaN</td>\n",
       "      <td>NaN</td>\n",
       "      <td>NaN</td>\n",
       "      <td>NaN</td>\n",
       "    </tr>\n",
       "    <tr>\n",
       "      <th>...</th>\n",
       "      <td>...</td>\n",
       "      <td>...</td>\n",
       "      <td>...</td>\n",
       "      <td>...</td>\n",
       "      <td>...</td>\n",
       "      <td>...</td>\n",
       "      <td>...</td>\n",
       "      <td>...</td>\n",
       "      <td>...</td>\n",
       "      <td>...</td>\n",
       "    </tr>\n",
       "    <tr>\n",
       "      <th>23805</th>\n",
       "      <td>/bank/bank-chbrr/</td>\n",
       "      <td>Василий,</td>\n",
       "      <td>Работа касс отвратительнаяПри наличии большой ...</td>\n",
       "      <td>банк чбрр</td>\n",
       "      <td>https://www.sravni.ru</td>\n",
       "      <td>18 дек, 2018</td>\n",
       "      <td>/bank/bank-chbrr/otzyv/305639/?page</td>\n",
       "      <td>1</td>\n",
       "      <td>NaN</td>\n",
       "      <td>NaN</td>\n",
       "    </tr>\n",
       "    <tr>\n",
       "      <th>23806</th>\n",
       "      <td>/bank/primore/</td>\n",
       "      <td>Дмитрий,</td>\n",
       "      <td>Проблемы с переводом за границу.Решил приобрес...</td>\n",
       "      <td>банк приморье</td>\n",
       "      <td>https://www.sravni.ru</td>\n",
       "      <td>28 нояб, 2017</td>\n",
       "      <td>/bank/primore/otzyv/258481/?page</td>\n",
       "      <td>1</td>\n",
       "      <td>NaN</td>\n",
       "      <td>NaN</td>\n",
       "    </tr>\n",
       "    <tr>\n",
       "      <th>23807</th>\n",
       "      <td>/bank/inkarobank/</td>\n",
       "      <td>Александр,</td>\n",
       "      <td>Отказали в пополнении вкладаСегодняСегодня (10...</td>\n",
       "      <td>инкаробанк</td>\n",
       "      <td>https://www.sravni.ru</td>\n",
       "      <td>10 мая, 2018</td>\n",
       "      <td>/bank/inkarobank/otzyv/289290/?page</td>\n",
       "      <td>3</td>\n",
       "      <td>NaN</td>\n",
       "      <td>NaN</td>\n",
       "    </tr>\n",
       "    <tr>\n",
       "      <th>23808</th>\n",
       "      <td>/bank/razvitie-stolica/</td>\n",
       "      <td>Uliana,</td>\n",
       "      <td>Вернули мне мою квартиру!Взыскивали квартиру п...</td>\n",
       "      <td>банк развитие-столица</td>\n",
       "      <td>https://www.sravni.ru</td>\n",
       "      <td>04 февр, 2019</td>\n",
       "      <td>/bank/razvitie-stolica/otzyv/312081/?page</td>\n",
       "      <td>5</td>\n",
       "      <td>NaN</td>\n",
       "      <td>NaN</td>\n",
       "    </tr>\n",
       "    <tr>\n",
       "      <th>23809</th>\n",
       "      <td>/bank/rosavtobank/</td>\n",
       "      <td>Дарья,</td>\n",
       "      <td>Решила открыть небольшой вклад в рублях и пути...</td>\n",
       "      <td>росавтобанк</td>\n",
       "      <td>https://www.sravni.ru</td>\n",
       "      <td>19 окт, 2015</td>\n",
       "      <td>/bank/rosavtobank/otzyv/178558/?page</td>\n",
       "      <td>5</td>\n",
       "      <td>NaN</td>\n",
       "      <td>NaN</td>\n",
       "    </tr>\n",
       "  </tbody>\n",
       "</table>\n",
       "<p>23810 rows × 10 columns</p>\n",
       "</div>"
      ],
      "text/plain": [
       "                      bank_href        login  \\\n",
       "0      /kredit-evropa-bank.html          NaN   \n",
       "1      /kredit-evropa-bank.html          NaN   \n",
       "2      /kredit-evropa-bank.html          NaN   \n",
       "3      /kredit-evropa-bank.html          NaN   \n",
       "4      /kredit-evropa-bank.html          NaN   \n",
       "...                         ...          ...   \n",
       "23805         /bank/bank-chbrr/    Василий,    \n",
       "23806            /bank/primore/    Дмитрий,    \n",
       "23807         /bank/inkarobank/  Александр,    \n",
       "23808   /bank/razvitie-stolica/     Uliana,    \n",
       "23809        /bank/rosavtobank/      Дарья,    \n",
       "\n",
       "                                                  review  \\\n",
       "0      Брал кредит в данной организации, после погаше...   \n",
       "1      В 2011 году,мною была оформлена мега карта в Т...   \n",
       "2      С родителями увидели рекламу вклада Осеннее пр...   \n",
       "3      Связать три года своей жизни с этим непорядочн...   \n",
       "4      Пользуюсь месяц карточкой Card Plus, сегодня п...   \n",
       "...                                                  ...   \n",
       "23805  Работа касс отвратительнаяПри наличии большой ...   \n",
       "23806  Проблемы с переводом за границу.Решил приобрес...   \n",
       "23807  Отказали в пополнении вкладаСегодняСегодня (10...   \n",
       "23808  Вернули мне мою квартиру!Взыскивали квартиру п...   \n",
       "23809  Решила открыть небольшой вклад в рублях и пути...   \n",
       "\n",
       "                   bank_name                   site           date  \\\n",
       "0         кредит европа банк  http://bankireview.ru            NaN   \n",
       "1         кредит европа банк  http://bankireview.ru            NaN   \n",
       "2         кредит европа банк  http://bankireview.ru            NaN   \n",
       "3         кредит европа банк  http://bankireview.ru            NaN   \n",
       "4         кредит европа банк  http://bankireview.ru            NaN   \n",
       "...                      ...                    ...            ...   \n",
       "23805              банк чбрр  https://www.sravni.ru   18 дек, 2018   \n",
       "23806          банк приморье  https://www.sravni.ru  28 нояб, 2017   \n",
       "23807             инкаробанк  https://www.sravni.ru   10 мая, 2018   \n",
       "23808  банк развитие-столица  https://www.sravni.ru  04 февр, 2019   \n",
       "23809            росавтобанк  https://www.sravni.ru   19 окт, 2015   \n",
       "\n",
       "                                    message_href score status user_href  \n",
       "0                                            NaN   NaN    NaN       NaN  \n",
       "1                                            NaN   NaN    NaN       NaN  \n",
       "2                                            NaN   NaN    NaN       NaN  \n",
       "3                                            NaN   NaN    NaN       NaN  \n",
       "4                                            NaN   NaN    NaN       NaN  \n",
       "...                                          ...   ...    ...       ...  \n",
       "23805        /bank/bank-chbrr/otzyv/305639/?page     1    NaN       NaN  \n",
       "23806           /bank/primore/otzyv/258481/?page     1    NaN       NaN  \n",
       "23807        /bank/inkarobank/otzyv/289290/?page     3    NaN       NaN  \n",
       "23808  /bank/razvitie-stolica/otzyv/312081/?page     5    NaN       NaN  \n",
       "23809       /bank/rosavtobank/otzyv/178558/?page     5    NaN       NaN  \n",
       "\n",
       "[23810 rows x 10 columns]"
      ]
     },
     "execution_count": 160,
     "metadata": {},
     "output_type": "execute_result"
    }
   ],
   "source": [
    "datafr = pd.read_csv('financial_review.csv', sep=',')\n",
    "datafr"
   ]
  },
  {
   "cell_type": "code",
   "execution_count": 161,
   "metadata": {},
   "outputs": [
    {
     "ename": "MemoryError",
     "evalue": "Unable to allocate 14.8 GiB for an array with shape (23810, 557, 300) and data type float32",
     "output_type": "error",
     "traceback": [
      "\u001b[1;31m---------------------------------------------------------------------------\u001b[0m",
      "\u001b[1;31mMemoryError\u001b[0m                               Traceback (most recent call last)",
      "\u001b[1;32m<ipython-input-161-634102a2da15>\u001b[0m in \u001b[0;36m<module>\u001b[1;34m\u001b[0m\n\u001b[1;32m----> 1\u001b[1;33m \u001b[0mtext2\u001b[0m \u001b[1;33m=\u001b[0m \u001b[0mtest_text\u001b[0m\u001b[1;33m(\u001b[0m\u001b[0mdatafr\u001b[0m\u001b[1;33m[\u001b[0m\u001b[1;34m'review'\u001b[0m\u001b[1;33m]\u001b[0m\u001b[1;33m)\u001b[0m\u001b[1;33m\u001b[0m\u001b[1;33m\u001b[0m\u001b[0m\n\u001b[0m",
      "\u001b[1;32m<ipython-input-150-d6eed4baec99>\u001b[0m in \u001b[0;36mtest_text\u001b[1;34m(text)\u001b[0m\n\u001b[0;32m      7\u001b[0m \u001b[1;31m#     print(vecs)\u001b[0m\u001b[1;33m\u001b[0m\u001b[1;33m\u001b[0m\u001b[1;33m\u001b[0m\u001b[0m\n\u001b[0;32m      8\u001b[0m \u001b[1;31m#     print(np.array(vecs).shape)\u001b[0m\u001b[1;33m\u001b[0m\u001b[1;33m\u001b[0m\u001b[1;33m\u001b[0m\u001b[0m\n\u001b[1;32m----> 9\u001b[1;33m     \u001b[0mpadded\u001b[0m \u001b[1;33m=\u001b[0m \u001b[0mpad_sequences\u001b[0m\u001b[1;33m(\u001b[0m\u001b[0mvecs\u001b[0m\u001b[1;33m,\u001b[0m \u001b[0mdtype\u001b[0m\u001b[1;33m=\u001b[0m\u001b[1;34m'float32'\u001b[0m\u001b[1;33m,\u001b[0m \u001b[0mmaxlen\u001b[0m\u001b[1;33m=\u001b[0m\u001b[0mmax_length\u001b[0m\u001b[1;33m)\u001b[0m\u001b[1;33m\u001b[0m\u001b[1;33m\u001b[0m\u001b[0m\n\u001b[0m\u001b[0;32m     10\u001b[0m     \u001b[0mprint\u001b[0m\u001b[1;33m(\u001b[0m\u001b[0mpadded\u001b[0m\u001b[1;33m.\u001b[0m\u001b[0mshape\u001b[0m\u001b[1;33m)\u001b[0m\u001b[1;33m\u001b[0m\u001b[1;33m\u001b[0m\u001b[0m\n\u001b[0;32m     11\u001b[0m     \u001b[1;32mreturn\u001b[0m \u001b[0mnp\u001b[0m\u001b[1;33m.\u001b[0m\u001b[0marray\u001b[0m\u001b[1;33m(\u001b[0m\u001b[0mpadded\u001b[0m\u001b[1;33m)\u001b[0m\u001b[1;33m\u001b[0m\u001b[1;33m\u001b[0m\u001b[0m\n",
      "\u001b[1;32mD:\\anaconda\\lib\\site-packages\\tensorflow\\python\\keras\\preprocessing\\sequence.py\u001b[0m in \u001b[0;36mpad_sequences\u001b[1;34m(sequences, maxlen, dtype, padding, truncating, value)\u001b[0m\n\u001b[0;32m    154\u001b[0m           \u001b[1;32mor\u001b[0m \u001b[1;32min\u001b[0m \u001b[0mcase\u001b[0m \u001b[0mof\u001b[0m \u001b[0minvalid\u001b[0m \u001b[0mshape\u001b[0m \u001b[1;32mfor\u001b[0m \u001b[0ma\u001b[0m\u001b[0;31m \u001b[0m\u001b[0;31m`\u001b[0m\u001b[0msequences\u001b[0m\u001b[0;31m`\u001b[0m \u001b[0mentry\u001b[0m\u001b[1;33m.\u001b[0m\u001b[1;33m\u001b[0m\u001b[1;33m\u001b[0m\u001b[0m\n\u001b[0;32m    155\u001b[0m   \"\"\"\n\u001b[1;32m--> 156\u001b[1;33m   return sequence.pad_sequences(\n\u001b[0m\u001b[0;32m    157\u001b[0m       \u001b[0msequences\u001b[0m\u001b[1;33m,\u001b[0m \u001b[0mmaxlen\u001b[0m\u001b[1;33m=\u001b[0m\u001b[0mmaxlen\u001b[0m\u001b[1;33m,\u001b[0m \u001b[0mdtype\u001b[0m\u001b[1;33m=\u001b[0m\u001b[0mdtype\u001b[0m\u001b[1;33m,\u001b[0m\u001b[1;33m\u001b[0m\u001b[1;33m\u001b[0m\u001b[0m\n\u001b[0;32m    158\u001b[0m       padding=padding, truncating=truncating, value=value)\n",
      "\u001b[1;32mD:\\anaconda\\lib\\site-packages\\keras_preprocessing\\sequence.py\u001b[0m in \u001b[0;36mpad_sequences\u001b[1;34m(sequences, maxlen, dtype, padding, truncating, value)\u001b[0m\n\u001b[0;32m     83\u001b[0m                          .format(dtype, type(value)))\n\u001b[0;32m     84\u001b[0m \u001b[1;33m\u001b[0m\u001b[0m\n\u001b[1;32m---> 85\u001b[1;33m     \u001b[0mx\u001b[0m \u001b[1;33m=\u001b[0m \u001b[0mnp\u001b[0m\u001b[1;33m.\u001b[0m\u001b[0mfull\u001b[0m\u001b[1;33m(\u001b[0m\u001b[1;33m(\u001b[0m\u001b[0mnum_samples\u001b[0m\u001b[1;33m,\u001b[0m \u001b[0mmaxlen\u001b[0m\u001b[1;33m)\u001b[0m \u001b[1;33m+\u001b[0m \u001b[0msample_shape\u001b[0m\u001b[1;33m,\u001b[0m \u001b[0mvalue\u001b[0m\u001b[1;33m,\u001b[0m \u001b[0mdtype\u001b[0m\u001b[1;33m=\u001b[0m\u001b[0mdtype\u001b[0m\u001b[1;33m)\u001b[0m\u001b[1;33m\u001b[0m\u001b[1;33m\u001b[0m\u001b[0m\n\u001b[0m\u001b[0;32m     86\u001b[0m     \u001b[1;32mfor\u001b[0m \u001b[0midx\u001b[0m\u001b[1;33m,\u001b[0m \u001b[0ms\u001b[0m \u001b[1;32min\u001b[0m \u001b[0menumerate\u001b[0m\u001b[1;33m(\u001b[0m\u001b[0msequences\u001b[0m\u001b[1;33m)\u001b[0m\u001b[1;33m:\u001b[0m\u001b[1;33m\u001b[0m\u001b[1;33m\u001b[0m\u001b[0m\n\u001b[0;32m     87\u001b[0m         \u001b[1;32mif\u001b[0m \u001b[1;32mnot\u001b[0m \u001b[0mlen\u001b[0m\u001b[1;33m(\u001b[0m\u001b[0ms\u001b[0m\u001b[1;33m)\u001b[0m\u001b[1;33m:\u001b[0m\u001b[1;33m\u001b[0m\u001b[1;33m\u001b[0m\u001b[0m\n",
      "\u001b[1;32mD:\\anaconda\\lib\\site-packages\\numpy\\core\\numeric.py\u001b[0m in \u001b[0;36mfull\u001b[1;34m(shape, fill_value, dtype, order)\u001b[0m\n\u001b[0;32m    323\u001b[0m     \u001b[1;32mif\u001b[0m \u001b[0mdtype\u001b[0m \u001b[1;32mis\u001b[0m \u001b[1;32mNone\u001b[0m\u001b[1;33m:\u001b[0m\u001b[1;33m\u001b[0m\u001b[1;33m\u001b[0m\u001b[0m\n\u001b[0;32m    324\u001b[0m         \u001b[0mdtype\u001b[0m \u001b[1;33m=\u001b[0m \u001b[0marray\u001b[0m\u001b[1;33m(\u001b[0m\u001b[0mfill_value\u001b[0m\u001b[1;33m)\u001b[0m\u001b[1;33m.\u001b[0m\u001b[0mdtype\u001b[0m\u001b[1;33m\u001b[0m\u001b[1;33m\u001b[0m\u001b[0m\n\u001b[1;32m--> 325\u001b[1;33m     \u001b[0ma\u001b[0m \u001b[1;33m=\u001b[0m \u001b[0mempty\u001b[0m\u001b[1;33m(\u001b[0m\u001b[0mshape\u001b[0m\u001b[1;33m,\u001b[0m \u001b[0mdtype\u001b[0m\u001b[1;33m,\u001b[0m \u001b[0morder\u001b[0m\u001b[1;33m)\u001b[0m\u001b[1;33m\u001b[0m\u001b[1;33m\u001b[0m\u001b[0m\n\u001b[0m\u001b[0;32m    326\u001b[0m     \u001b[0mmultiarray\u001b[0m\u001b[1;33m.\u001b[0m\u001b[0mcopyto\u001b[0m\u001b[1;33m(\u001b[0m\u001b[0ma\u001b[0m\u001b[1;33m,\u001b[0m \u001b[0mfill_value\u001b[0m\u001b[1;33m,\u001b[0m \u001b[0mcasting\u001b[0m\u001b[1;33m=\u001b[0m\u001b[1;34m'unsafe'\u001b[0m\u001b[1;33m)\u001b[0m\u001b[1;33m\u001b[0m\u001b[1;33m\u001b[0m\u001b[0m\n\u001b[0;32m    327\u001b[0m     \u001b[1;32mreturn\u001b[0m \u001b[0ma\u001b[0m\u001b[1;33m\u001b[0m\u001b[1;33m\u001b[0m\u001b[0m\n",
      "\u001b[1;31mMemoryError\u001b[0m: Unable to allocate 14.8 GiB for an array with shape (23810, 557, 300) and data type float32"
     ]
    }
   ],
   "source": [
    "text2 = test_text(datafr['review'])"
   ]
  },
  {
   "cell_type": "code",
   "execution_count": null,
   "metadata": {},
   "outputs": [],
   "source": [
    "model = Sequential()\n",
    "model.add(LSTM(100, return_sequences=False))\n",
    "model.add(Dense(2, activation='softmax'))\n",
    "model.compile(loss='categorical_crossentropy', optimizer='adam', metrics=['accuracy'])"
   ]
  }
 ],
 "metadata": {
  "kernelspec": {
   "display_name": "Python 3",
   "language": "python",
   "name": "python3"
  },
  "language_info": {
   "codemirror_mode": {
    "name": "ipython",
    "version": 3
   },
   "file_extension": ".py",
   "mimetype": "text/x-python",
   "name": "python",
   "nbconvert_exporter": "python",
   "pygments_lexer": "ipython3",
   "version": "3.8.3"
  }
 },
 "nbformat": 4,
 "nbformat_minor": 4
}
